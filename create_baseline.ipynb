{
 "cells": [
  {
   "cell_type": "code",
   "execution_count": 54,
   "metadata": {},
   "outputs": [],
   "source": [
    "import json\n",
    "from utils import *\n",
    "import re\n",
    "import numpy as np"
   ]
  },
  {
   "cell_type": "code",
   "execution_count": 72,
   "metadata": {},
   "outputs": [],
   "source": [
    "def create_resume(resume_json):\n",
    "    \"\"\"Re-construct the textual resume from the provided JSON data.\"\"\"\n",
    "    \n",
    "    def flatten_and_convert(data):\n",
    "        \"\"\"Flatten and convert data to string.\"\"\"\n",
    "        if isinstance(data, list):\n",
    "            return ' '.join(map(str, data))\n",
    "        return str(data)\n",
    "\n",
    "    resume_text = []\n",
    "\n",
    "    # Basic Info\n",
    "    basic_info = resume_json.get('Basic_Info', {})\n",
    "    title = flatten_and_convert(basic_info.get('Current_Title', ''))\n",
    "    company = flatten_and_convert(basic_info.get('Current_Company', ''))\n",
    "    resume_text.append(title + \" at \" + company)\n",
    "    resume_text.append(flatten_and_convert(basic_info.get('Location', '')))\n",
    "    bio = flatten_and_convert(basic_info.get('Bio', ''))\n",
    "    if bio:\n",
    "        resume_text.append(bio)\n",
    "    resume_text.append(\"\\nExperience:\")\n",
    "\n",
    "    # Experience\n",
    "    i = 0\n",
    "    for exp in resume_json.get('Experience', []):\n",
    "        job_title = flatten_and_convert(exp.get('Job_Title', ''))\n",
    "        company = flatten_and_convert(exp.get('Company', ''))\n",
    "        start_date = flatten_and_convert(exp.get('Start_Date', ''))\n",
    "        end_date = flatten_and_convert(exp.get('End_Date', ''))\n",
    "        responsibilities = flatten_and_convert(exp.get('Responsibilities', ''))\n",
    "        resume_text.append(job_title + \" at \" + company + \" (\" + start_date + \" - \" + end_date + \")\")\n",
    "        resume_text.append(responsibilities)\n",
    "\n",
    "\n",
    "    # Education\n",
    "    resume_text.append(\"\\nEducation:\")\n",
    "    for edu in resume_json.get('Education', []):\n",
    "        degree = flatten_and_convert(edu.get('Degree', ''))\n",
    "        field = flatten_and_convert(edu.get('Field', ''))\n",
    "        institution = flatten_and_convert(edu.get('Institution', ''))\n",
    "        resume_text.append(degree + \" in \" + field + \" from \" + institution)\n",
    "\n",
    "    # Skills\n",
    "    skills = flatten_and_convert(resume_json.get('Skills', []))\n",
    "    if skills:\n",
    "        resume_text.append(\"\\nSkills:\")\n",
    "        resume_text.append(skills)\n",
    "\n",
    "    # Links\n",
    "    links = flatten_and_convert(resume_json.get('Links', []))\n",
    "    if links:\n",
    "        resume_text.append(\"\\nLinks:\")\n",
    "        resume_text.append(links)\n",
    "        \n",
    "    # certifications\n",
    "    certifications = flatten_and_convert(resume_json.get('Certifications', []))\n",
    "    if certifications:\n",
    "        \n",
    "        resume_text.append(\"\\nCertifications:\")\n",
    "        resume_text.append(certifications)\n",
    "    # Additional Information\n",
    "    additional_info = flatten_and_convert(resume_json.get('Additional_Information', ''))\n",
    "    \n",
    "    if additional_info:\n",
    "        resume_text.append(\"\\nAdditional Information:\")\n",
    "        resume_text.append(additional_info)\n",
    "\n",
    "    # Joining all the parts to form a single string\n",
    "    resume_formatted = \"\\n\".join(resume_text)\n",
    "    \n",
    "    return resume_formatted\n",
    "\n",
    "def printRes(resName, raw = False, to = -1):\n",
    "    if \"txt\" not in resName:\n",
    "        resName += \".txt\"\n",
    "    res = getCleanResume(resName).replace(\"?\", \"\").replace(\"-\", \"\").replace(\"  \", \" \")[:to]\n",
    "    # get rid of any non-aplhanumeric characters\n",
    "    res = re.sub(r\"[^a-zA-Z0-9]+\", ' ', res) if not raw else res\n",
    "    print(res)\n",
    "    print()\n",
    "    if \"skills\" in res.lower():\n",
    "        print(\"Skills\")\n",
    "        print()\n",
    "        # find last occurence of skills\n",
    "        print(res[res.lower().find(\"skills\"):])\n",
    "        #print(res[res.lower().find(\"skill\"):])\n",
    "    else:\n",
    "        print(\"No skills\")\n",
    "        \n",
    "    if \"education\" in res.lower():\n",
    "        print(\"Education\")\n",
    "        print()\n",
    "        print(res[res.lower().find(\"education\"):])\n",
    "    else: \n",
    "        print(\"No education\")"
   ]
  },
  {
   "cell_type": "code",
   "execution_count": null,
   "metadata": {},
   "outputs": [],
   "source": [
    "[llama2[keys[k]][EXPERIENCE][i][RESPONSIBILITIES] for k in range(len(keys)) for i in range(len(llama2[keys[k]][EXPERIENCE])) if RESPONSIBILITIES in llama2[keys[k]][EXPERIENCE][i] ]"
   ]
  },
  {
   "cell_type": "code",
   "execution_count": 20,
   "metadata": {},
   "outputs": [
    {
     "data": {
      "text/plain": [
       "'Business Intelligence/.NET Developer at Electronic Recyclers International\\nHanford, CA\\nBusiness Intelligence/.NET Developer Software Engineer authorized to work in the US for any employer.\\n\\nExperience:\\nBusiness Intelligence/.NET Developer at Electronic Recyclers International (April 2019 - Present)\\nI utilize Tableau, Tableau Online, Microsoft Azure Data Factory, SQL and SSIS to create and maintain data pipelines that help our executive staff make informed business decisions. In addition to my duties as a .NET developer, I was picked to take over duties of the BI Developer role as well. Every day I work directly with the executive staff to improve our business model.\\nApplication Developer at Electronic Recyclers International (November 2018 - Present)\\nAs a Developer at ERI, my responsibilities include contributing to an extremely diverse code-base, participating in daily standup meetings, improving business practices through software, providing support to employees and more. Every day, the team leaders outline their ideas for optimizing our application which means each day is a different challenge as we try to make life easier for our users.\\nFilemaker Developer at iSolutions (January 2018 - Present)\\nI ran client meetings, which include discovery. I spent hours developing optimized solutions for a wide range of clients on iOS and Desktop and I have personally optimized iSolutions internal billing and invoicing platform.\\nDeveloper Intern at iSolutions (September 2017 - January 2018)\\nDeveloped custom software applications for small and large-scale companies during this 6 month internship. Developed in FileMaker Pro, used Filemaker API as a backend and NodeJS together. Integrated a multitude of APIs including Uber, Twilio, Coinbase and more.\\n\\nEducation:\\nComputer Science in Computer Science from 42 Silicon Valley\\nB.S. in Communicative Disorders & Deaf Studies in Communicative Disorders & Deaf Studies from University of Fresno\\nGraphic Design & Video Game Production in Graphic Design & Video Game Production from Center for Advanced Research & Technology\\n\\nSkills:\\nC Javascript Project Management Software Development Python Database Management Database Development Filemaker Pro JSON Integration APIs Solidity SQL Git Social Media Management Teamwork Team Leader noSQL Docker AWS NodeJS Heroku XML SQL Server HTML C# .NET Visual Basic Visual Studio jQuery ASP CSS .NET C# SQL Visual Basic Visual Studio Entity Framework LINQ Tableau Vue.js SSMS SSIS\\n\\nLinks:\\nhttp://github.com/jeftekhari\\n\\nCertifications:\\n{\\'Certification_Title\\': \\'FileMaker 17 Developer\\', \\'Issuing_Organization\\': \\'\\', \\'Date_Issued\\': \\'May 2018\\'} {\\'Certification_Title\\': \"Driver\\'s License\", \\'Issuing_Organization\\': \\'\\', \\'Date_Issued\\': \\'\\'}'"
      ]
     },
     "execution_count": 20,
     "metadata": {},
     "output_type": "execute_result"
    }
   ],
   "source": [
    "create_resume(gpt4['20088.txt'])"
   ]
  },
  {
   "cell_type": "code",
   "execution_count": 21,
   "metadata": {},
   "outputs": [
    {
     "name": "stdout",
     "output_type": "stream",
     "text": [
      "13015.txt -117\n",
      "21699.txt -306\n",
      "04981.txt -141\n",
      "20088.txt -102\n",
      "07455.txt -103\n",
      "16515.txt -143\n",
      "22041.txt -104\n",
      "26438.txt -289\n",
      "11685.txt -115\n",
      "03114.txt -162\n",
      "02466.txt -295\n"
     ]
    }
   ],
   "source": [
    "# with open(\"gpt4_parsing.json\", \"r\") as f:\n",
    "#     gpt4 = json.load(f)\n",
    "    \n",
    "# with open(\"new_baseline_comparison.json\", \"r\") as f:\n",
    "#     new_baseline = json.load(f)\n",
    "    \n",
    "keys = list(gpt4.keys())\n",
    "#raw_resumes = [getCleanResume(gpt4[key]) for key in keys]\n",
    "\n",
    "for key in keys:\n",
    "    #print(key)\n",
    "    joint_res = new_baseline['baseline'][key]\n",
    "    res = getCleanResume(key)\n",
    "    is_same = True\n",
    "    length_diff = len(re.sub(r\"[^a-zA-Z0-9]+\", \" \", create_resume(joint_res)).split()) - len(re.sub(r\"[^a-zA-Z0-9]+\", \" \", res).split())\n",
    "    for exp in joint_res['Experience']:\n",
    "        res_gpt = exp['Responsibilities']\n",
    "        res_gpt = re.sub(r\"[^a-zA-Z0-9]+\", '', res_gpt)\n",
    "\n",
    "        is_same = is_same and (res_gpt in re.sub(r\"[^a-zA-Z0-9]+\", '', res)) \n",
    "    bio = joint_res['Basic_Info']['Bio']\n",
    "    is_same = is_same and (re.sub(r\"[^a-zA-Z0-9]+\", '', bio) in re.sub(r\"[^a-zA-Z0-9]+\", '', res))\n",
    "    \n",
    "    # new_baseline['baseline'][key] = gpt4[key]\n",
    "    # if not is_same:   \n",
    "    #     print(key, is_same)\n",
    "    if abs(length_diff) > 100:\n",
    "        print(key, length_diff)\n",
    "        \n",
    "    # if abs(length_diff) > 100 and not is_same:\n",
    "    #     print(key, length_diff)\n",
    "    \n",
    "    "
   ]
  },
  {
   "cell_type": "code",
   "execution_count": 36,
   "metadata": {},
   "outputs": [
    {
     "data": {
      "text/plain": [
       "118"
      ]
     },
     "execution_count": 36,
     "metadata": {},
     "output_type": "execute_result"
    }
   ],
   "source": [
    "len(new_baseline['baseline'])"
   ]
  },
  {
   "cell_type": "code",
   "execution_count": 76,
   "metadata": {},
   "outputs": [],
   "source": [
    "# with open(\"new_baseline_comparison.json\", \"w\") as f:\n",
    "#     json.dump(new_baseline, f, indent=4)"
   ]
  },
  {
   "cell_type": "code",
   "execution_count": 31,
   "metadata": {},
   "outputs": [
    {
     "data": {
      "text/plain": [
       "' NET Web Developer at DataConcepts Richmond VA Authorized to work in the US for any employer Experience NET Web Developer at DataConcepts October 2017 Present Designed and developed an Online Open Enrollment System for the State of Virginia Department of Human Resources Created AngularJS SPA in an agile environment using Team Foundation Server QA as well as modifying UI to comply with ADA standards C and Javascript debugging and enhancing HTML5 CSS3 Bootstrap Rest API Services Javascript JQuery AngularJS ASP NET MVC C SQL 2014 Selenium EF6 Sr Front End Developer at Tahzoo LLC December 2016 July 2017 Assisted with POC modifications and an internal employee mapping web site within an Agile environment Trained with MarkLogic Data Hub and Cloud Service Achieving MarkLogic certification Entity Framework 6 Model First Javascript RAZOR modifications Front End Developer at Shockoe LLC July 2016 August 2016 Team member in training to develop a responsive web application for Capital One utilizing the AngularJS framework Development accomplished on Macintosh environment using Git BitBucket Sourcetree and JIRA in an Agile environment Created AngularJS based mobile applications utilizing TML5 CSS3 Bootstrap Rest API Services Javascript JQuery AngularJS ASP NET MVC C MongoDB Postman Sketch NODE NET Developer at KnifeCenter November 2015 May 2016 Hired to improve customer service and purchasing response time Improved customer service computer performance Upon completion assisted with HTML Front End Added data validation to web forms and fixed invalid XML data exports Extended shopping menu with external web modal window for customer UI HTML Bootstrap Javascript JQuery C AJAX VS2015 REST API XML MS ACCESS WebDNA Independent Hourly Consultant at HCA February 2014 October 2015 Created Windows Service scheduling daily or monthly FTP transfer of files Automated component of accounting billing procedure C XML SQL Stored Procedures TFS ASP NET Information Systems Manager at Ukrop s Dress Express June 2011 February 2014 Data migration ETL from MS Access Excel XML to SQL Server 2005 2008 Manage 40 eCommerce websites Develop test and deploy new ASP NET C JavaScript enhancements Integrate orders with Sage AccPac ERP system via SQL Server Integration Service SSIS C SQL SSRS SSIS VB Script MVC3 JavaScript ASP NET Education Bachelor s in from Skills NET API C Git JAVASCRIPT Links https share indeedassessments com share assignment m8unpiwpdnhb3z n'"
      ]
     },
     "execution_count": 31,
     "metadata": {},
     "output_type": "execute_result"
    }
   ],
   "source": [
    "re.sub(r\"[^a-zA-Z0-9]+\", \" \", create_resume(joint_res))"
   ]
  },
  {
   "cell_type": "code",
   "execution_count": 30,
   "metadata": {},
   "outputs": [
    {
     "data": {
      "text/plain": [
       "' NET Web Developer NET Web Developer NET Web Developer DataConcepts Richmond VA Authorized to work in the US for any employer Work Experience NET Web Developer DataConcepts Richmond VA October 2017 to Present Designed and developed an Online Open Enrollment System for the State of Virginia Department of Human Resources Created AngularJS SPA in an agile environment using Team Foundation Server QA as well as modifying UI to comply with ADA standards C and Javascript debugging and enhancing HTML5 CSS3 Bootstrap Rest API Services Javascript JQuery AngularJS ASP NET MVC C SQL 2014 Selenium EF6 Sr Front End Developer Tahzoo LLC Richmond VA December 2016 to July 2017 Assisted with POC modifications and an internal employee mapping web site within an Agile environment Trained with MarkLogic Data Hub and Cloud Service Achieving MarkLogic certification Entity Framework 6 Javascript RAZOR modifications Front End Developer Shockoe LLC Richmond VA July 2016 to August 2016 Team member in training to develop a responsive web application for Capital One utilizing the AngularJS framework Development accomplished on Macintosh environment using Git BitBucket Sourcetree and JIRA in an Agile environment Created AngularJS based mobile applications utilizing TML5 CSS3 Bootstrap Rest API Services Javascript JQuery AngularJS ASP NET MVC C MongoDB Postman Sketch NODE NET Developer KnifeCenter Fredericksburg VA November 2015 to May 2016 Hired to improve customer service and purchasing response time Improved customer service computer performance Upon completion assisted with HTML Front End Added data validation to web forms and fixed invalid XML data exports Extended shopping menu with external web modal window for customer UI HTML Bootstrap Javascript JQuery C AJAX VS2015 REST API XML MS ACCESS WebDNA Independent Hourly Consultant HCA Richmond VA February 2014 to October 2015 Created Windows Service scheduling daily or monthly FTP transfer of files Automated component of accounting billing procedure C XML SQL Stored Procedures TFS ASP NET SMART Resources IFMG CarLOAN Richmond VA Created WCF code to acquire TransUnion consumer credit score C VB SQL Stored Procedures DLL WCF VSS TFS ASP NET XML VITA VA Governor s Office Richmond VA Create test and deploy the Commonwealth of VA Public Notary Search web page Authorize and Authenticate user logins and implement a single sign on web site C MVC5 Bootstrap MS CRM TFS ASP NET RWD Bootstrap RAZOR Agile Information Systems Manager Ukrop s Dress Express Richmond VA June 2011 to February 2014 Data migration from MS Access Excel XML to SQL Server 2005 2008 Manage 40 eCommerce websites Develop test and deploy new ASP NET C JavaScript enhancements Integrate orders with Sage AccPac ERP system via SQL Server Integration Service C SQL SSRS SSIS VB Script MVC3 JavaScript ASP NET Education Bachelor s Skills NET API C Git JAVASCRIPT Assessments Problem Solving Expert May 2019 Measures a candidate s ability to analyze relevant information when solving problems Full results https share indeedassessments com share assignment m8unpiwpdnhb3z n Indeed Assessments provides skills tests that are not indicative of a license or certification or continued development in any professional field Additional Information SKILLS SET HTML5 Javascript REST API MarkLogic CSS3 Jquery XML NoSQL Bootstrap C NET JSON MS SQL AngularJS RAZOR ASP NET MVC5 Entity Framework 6 HL7 NODE JS TFS GIT MongoDB'"
      ]
     },
     "execution_count": 30,
     "metadata": {},
     "output_type": "execute_result"
    }
   ],
   "source": [
    "re.sub(r\"[^a-zA-Z0-9]+\", \" \", re.sub(r\"\\([^)]*\\)\", \"\", res))"
   ]
  },
  {
   "cell_type": "markdown",
   "metadata": {},
   "source": [
    "\n",
    "04981.txt -141\n",
    "20088.txt -102\n",
    "07455.txt -103\n",
    "16515.txt -143\n",
    "22041.txt -104\n",
    "11685.txt -115\n",
    "03114.txt -162"
   ]
  },
  {
   "cell_type": "code",
   "execution_count": 178,
   "metadata": {},
   "outputs": [
    {
     "data": {
      "text/plain": [
       "387"
      ]
     },
     "execution_count": 178,
     "metadata": {},
     "output_type": "execute_result"
    }
   ],
   "source": [
    "len(re.sub(r\"[^a-zA-Z0-9]+\", \" \", create_resume(joint_res)).split())"
   ]
  },
  {
   "cell_type": "code",
   "execution_count": 32,
   "metadata": {},
   "outputs": [
    {
     "name": "stdout",
     "output_type": "stream",
     "text": [
      "length difference: -115\n",
      "Bio\n",
      "Experience\n"
     ]
    }
   ],
   "source": [
    "res = getCleanResume(\"11685.txt\")\n",
    "joint_res = gpt4[\"11685.txt\"]\n",
    "bio = joint_res['Basic_Info']['Bio']\n",
    "print(f'length difference: {len(re.sub(r\"[^a-zA-Z0-9]+\", \" \", create_resume(joint_res)).split()) - len(re.sub(r\"[^a-zA-Z0-9]+\", \" \", res).split())}')\n",
    "print(\"Bio\")\n",
    "if not re.sub(r\"[^a-zA-Z0-9]+\", '', bio) in re.sub(r\"[^a-zA-Z0-9]+\", '', res):\n",
    "    print(bio)\n",
    "    print()\n",
    "    \n",
    "print(\"Experience\")\n",
    "for exp in joint_res['Experience']:\n",
    "    res_gpt = exp['Responsibilities']\n",
    "    #res_gpt = re.sub(r\"[^a-zA-Z0-9]+\", ' ', res_gpt)\n",
    "    if not re.sub(r\"[^a-zA-Z0-9]+\", '', res_gpt) in re.sub(r\"[^a-zA-Z0-9]+\", '', res):\n",
    "        print(res_gpt)\n",
    "        print()\n",
    "        \n"
   ]
  },
  {
   "cell_type": "code",
   "execution_count": 100,
   "metadata": {},
   "outputs": [],
   "source": [
    "# choose 30 random keys from new_baseline without replacement\n",
    "chosen = iter(np.random.choice(list(new_baseline['baseline'].keys())[20:], 30, replace=False))"
   ]
  },
  {
   "cell_type": "code",
   "execution_count": 102,
   "metadata": {},
   "outputs": [
    {
     "name": "stdout",
     "output_type": "stream",
     "text": [
      "Current Student Current Student Orange, CA Work Experience Current Student Myself Orange County, CA December 2015 to Present Currently (and since December 2015, combined with my last job) I find myself in the selftraining to be a frontend developer. Performing courses and training in Ionic, Angular, Nodejs, MongoDB, HTML5, CSS3, WordPress, JavaScript, TypeScript, etc. Computer Technician Computado\n",
      "\n",
      "No skills\n",
      "No education\n"
     ]
    }
   ],
   "source": [
    "printRes(next(chosen), raw=True, to=400)"
   ]
  },
  {
   "cell_type": "code",
   "execution_count": 42,
   "metadata": {},
   "outputs": [
    {
     "ename": "TypeError",
     "evalue": "'list_iterator' object is not subscriptable",
     "output_type": "error",
     "traceback": [
      "\u001b[0;31m---------------------------------------------------------------------------\u001b[0m",
      "\u001b[0;31mTypeError\u001b[0m                                 Traceback (most recent call last)",
      "\u001b[1;32m/Users/oscarwan/Research/CodeAndData/create_baseline.ipynb Cell 14\u001b[0m line \u001b[0;36m1\n\u001b[0;32m----> <a href='vscode-notebook-cell:/Users/oscarwan/Research/CodeAndData/create_baseline.ipynb#X14sZmlsZQ%3D%3D?line=0'>1</a>\u001b[0m \u001b[39mprint\u001b[39m(chosen[\u001b[39m3\u001b[39;49m])\n",
      "\u001b[0;31mTypeError\u001b[0m: 'list_iterator' object is not subscriptable"
     ]
    }
   ],
   "source": [
    "print(chosen[3])"
   ]
  },
  {
   "cell_type": "code",
   "execution_count": null,
   "metadata": {},
   "outputs": [],
   "source": []
  }
 ],
 "metadata": {
  "kernelspec": {
   "display_name": "resume_research",
   "language": "python",
   "name": "python3"
  },
  "language_info": {
   "codemirror_mode": {
    "name": "ipython",
    "version": 3
   },
   "file_extension": ".py",
   "mimetype": "text/x-python",
   "name": "python",
   "nbconvert_exporter": "python",
   "pygments_lexer": "ipython3",
   "version": "3.11.4"
  }
 },
 "nbformat": 4,
 "nbformat_minor": 2
}
