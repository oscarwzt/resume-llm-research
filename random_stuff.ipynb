{
 "cells": [
  {
   "cell_type": "code",
   "execution_count": 5,
   "metadata": {},
   "outputs": [],
   "source": [
    "import json\n",
    "from utils import *\n",
    "import os"
   ]
  },
  {
   "cell_type": "code",
   "execution_count": 12,
   "metadata": {},
   "outputs": [],
   "source": [
    "sysIns = \"\"\"You are a detail-oriented resume parsing machine. You do not miss any information on the resume. You do not add any information that is not on the resume. You parse the resumes the users give you into this exact format: \n",
    "{\n",
    "    \"Basic_Info\": {\n",
    "        \"Current_Title\": \"\",\n",
    "        \"Current_Company\": \"\",\n",
    "        \"Location\": \"\",\n",
    "        \"Bio\": \"\"\n",
    "    },\n",
    "    \"Experience\": [\n",
    "        {\n",
    "            \"Job_Title\": \"\",\n",
    "            \"Company\": \"\",\n",
    "            \"Location\": \"\",\n",
    "            \"Start_Date\": \"\",\n",
    "            \"End_Date\": \"\",\n",
    "            \"Responsibilities\": \"\"\n",
    "        }\n",
    "    ],\n",
    "    \"Education\": [\n",
    "        {\n",
    "            \"Degree\": \"\",\n",
    "            \"Field\": \"\",\n",
    "            \"Institution\": \"\",\n",
    "            \"Location\": \"\",\n",
    "            \"Graduation_Date\": \"\"\n",
    "        }\n",
    "    ],\n",
    "    \"Projects\": [\n",
    "        {\n",
    "            \"Project_Title\": \"\",\n",
    "            \"Description\": \"\",\n",
    "            \"Date\": \"\"\n",
    "        }\n",
    "    ],\n",
    "    \"Skills\": [],\n",
    "    \"Technical_Skills\": [],\n",
    "    \"Links\": [],\n",
    "    \"Certifications\": [\n",
    "        {\n",
    "            \"Certification_Title\": \"\",\n",
    "            \"Issuing_Organization\": \"\",\n",
    "            \"Date_Issued\": \"\"\n",
    "        }\n",
    "    ],\n",
    "    \"Awards\": [\n",
    "        {\n",
    "            \"Award_Title\": \"\",\n",
    "            \"Issuing_Organization\": \"\"\n",
    "        }\n",
    "    ],\n",
    "    \"Publications\": [\n",
    "        {\n",
    "            \"Publication_Title\": \"\",\n",
    "            \"Date\": \"\"\n",
    "        }\n",
    "    ]\n",
    "}\n",
    "\n",
    "The responsibility section should not be a summary of what's written in the corresponding section in the original resume. It should be the exact copy, not including special characters.\n",
    "\"\"\""
   ]
  },
  {
   "cell_type": "code",
   "execution_count": null,
   "metadata": {},
   "outputs": [],
   "source": [
    "import openai\n",
    "with open(\"chatGPT_API_KEY.txt\") as f:\n",
    "    API_KEY = f.read()\n",
    "openai.api_key = API_KEY\n"
   ]
  },
  {
   "cell_type": "code",
   "execution_count": 70,
   "metadata": {},
   "outputs": [],
   "source": [
    "with open(\"new_baseline_comparison.json\") as f:\n",
    "    new_base = json.load(f)"
   ]
  },
  {
   "cell_type": "code",
   "execution_count": 72,
   "metadata": {},
   "outputs": [
    {
     "data": {
      "text/plain": [
       "dict_keys(['06552', '29524', '19926', '09328', '00127', '24346', '15261', '17596', '05462', '09863', '14946', '16231', '02664', '22094', '26853', '28241', '03405', '26375', '21753', '10423', '28292', '04435', '08400', '07273', '20862', '23997', '15665', '21466', '21263', '02657', '00769', '09245', '08739', '12036', '28012', '18275', '28628', '26346', '08845', '26145', '06270.txt', '24955.txt', '23029.txt', '03226.txt', '29035.txt', '08847.txt', '00299.txt', '15400.txt', '24869.txt', '26887.txt', '10419.txt', '05100.txt', '04577.txt', '02264.txt', '11985.txt', '15242.txt', '14807.txt', '21128.txt', '06007.txt', '28224.txt', '21398.txt', '00690.txt', '01385.txt', '06551.txt', '04309.txt', '28762.txt', '24525.txt', '28357.txt', '15092.txt', '09731.txt', '22443.txt', '29363.txt', '28996.txt', '22801.txt', '25536.txt', '23747.txt', '01538.txt', '20257.txt'])"
      ]
     },
     "execution_count": 72,
     "metadata": {},
     "output_type": "execute_result"
    }
   ],
   "source": [
    "new_base['baseline'].keys()"
   ]
  },
  {
   "cell_type": "code",
   "execution_count": 67,
   "metadata": {},
   "outputs": [
    {
     "name": "stdout",
     "output_type": "stream",
     "text": [
      "{\n",
      "    \"Basic_Info\": {\n",
      "        \"Current_Title\": \"Data Technician/ Network Administrator\",\n",
      "        \"Current_Company\": \"Alpine Communications\",\n",
      "        \"Location\": \"Elkader, IA\",\n",
      "        \"Bio\": \"\"\n",
      "    },\n",
      "    \"Experience\": [\n",
      "        {\n",
      "            \"Job_Title\": \"Data Technician/ Network Administrator\",\n",
      "            \"Company\": \"Alpine Communications\",\n",
      "            \"Location\": \"Elkader, IA\",\n",
      "            \"Start_Date\": \"May 2018\",\n",
      "            \"End_Date\": \"Present\",\n",
      "            \"Responsibilities\": \"Helped customers with internet connection issues, Aid with networking setup for new customers, In charge of Lan network and security, Experienced with Occam/Calix Blades, Have experience with mesh wireless networks Ubiquiti/Comtrend, Have some Linux experience, Experience setting up user desktops, Experience with Windows 2016 essential active directory, Experience in installing, Managing and Configuring B6 Calix Blades\"\n",
      "        },\n",
      "        {\n",
      "            \"Job_Title\": \"Tech Support\",\n",
      "            \"Company\": \"DMACC\",\n",
      "            \"Location\": \"Ankeny, IA\",\n",
      "            \"Start_Date\": \"May 2017\",\n",
      "            \"End_Date\": \"May 2018\",\n",
      "            \"Responsibilities\": \"Provide help to users in need of account assistance, Help troubleshoot printer issues, Step users through web accounts and forum access, Assist callers to correct departments and people\"\n",
      "        },\n",
      "        {\n",
      "            \"Job_Title\": \"Sales Associate\",\n",
      "            \"Company\": \"MC Sports\",\n",
      "            \"Location\": \"Ankeny, IA\",\n",
      "            \"Start_Date\": \"May 2015\",\n",
      "            \"End_Date\": \"May 2017\",\n",
      "            \"Responsibilities\": \"Provide sales, merchandising, and expert knowledge on shoes while delivering excellent customer service, proofing cash with a low error rate, Helped managers prepare new associates for proofing cash, Resource for new hires, regarding product placement and running the cash register\"\n",
      "        },\n",
      "        {\n",
      "            \"Job_Title\": \"Lawn care expert\",\n",
      "            \"Company\": \"Spring Green\",\n",
      "            \"Location\": \"Dyersville, IA\",\n",
      "            \"Start_Date\": \"July 2013\",\n",
      "            \"End_Date\": \"August 2014\",\n",
      "            \"Responsibilities\": \"Provided expertise on reducing the height of the grass, while establishing outstanding customer service, Provided services to businesses by removing snow, Used my knowledge of Christmas lights to make houses look beautiful during the holiday season\"\n",
      "        },\n",
      "        {\n",
      "            \"Job_Title\": \"Caretaker\",\n",
      "            \"Company\": \"\",\n",
      "            \"Location\": \"Farley, IA\",\n",
      "            \"Start_Date\": \"October 2011\",\n",
      "            \"End_Date\": \"April 2013\",\n",
      "            \"Responsibilities\": \"Reduced the amount of materials lying around the building, Skid loader and fork lift operator\"\n",
      "        }\n",
      "    ],\n",
      "    \"Education\": [\n",
      "        {\n",
      "            \"Degree\": \"Certification\",\n",
      "            \"Field\": \"\",\n",
      "            \"Institution\": \"Des Moines Area Community College\",\n",
      "            \"Location\": \"Ankeny, IA\",\n",
      "            \"Graduation_Date\": \"May 2018\"\n",
      "        }\n",
      "    ],\n",
      "    \"Projects\": [],\n",
      "    \"Skills\": [\"Router\", \"Router setup\", \"Microsoft access\", \"Imaging\", \"Excel\", \"Technical Support\", \"Active Directory\", \"Networking\", \"Windows\"],\n",
      "    \"Technical_Skills\": [\"Microsoft Access\", \"Word\", \"Excel\", \"Router setup and Imaging\", \"Hardware trouble shooting\", \"Experience with virtual servers\"],\n",
      "    \"Links\": [],\n",
      "    \"Certifications\": [],\n",
      "    \"Awards\": [],\n",
      "    \"Publications\": []\n",
      "}\n"
     ]
    }
   ],
   "source": [
    "resume = getCleanResume(\"15400.txt\")\n",
    "response = openai.ChatCompletion.create(\n",
    "    model = \"gpt-4\",\n",
    "    messages = [\n",
    "        {'role': \"system\", \"content\": sysIns},\n",
    "        {\"role\": \"user\", \"content\": \"Please parse the following resume:\\n\" + resume}\n",
    "        ],\n",
    "    temperature = 0,\n",
    "    presence_penalty = -0.8\n",
    ")\n",
    "resp = response['choices'][0][\"message\"][\"content\"]\n",
    "print(resp)"
   ]
  },
  {
   "cell_type": "code",
   "execution_count": 73,
   "metadata": {},
   "outputs": [
    {
     "name": "stdout",
     "output_type": "stream",
     "text": [
      "Contract Cable Installer Contract Cable Installer Contract Cable Installer Fort Worth, TX Education- New Horizons Computer & Learning Center - Fort Worth, TX - Network+, Security+ and CCNA- 01/2019 to Present- - ITT Technical Institute - Las Vegas, NV - Associates of Science in Network Systems Administration- Completed 2016 Work Experience Contract Cable Installer Fiber Tech Inc - Fort Worth, TX June 2018 to January 2019 Residential Cable Installer- - Routed, ran, and/or pulled wire cable lines, j-hooks and other related structures from outside poles to resident's houses as well as within walls and/or attics if necessary.- - Conducted thorough inspections of each line I ran to meet highly specific conformities as well as prevailing. Integrated cable, phone, and internet network systems and assured each is properly engaged and useful to the customer- - Never needed a manager to re-install of systems and cables I implemented and as a result was promoted to Commercial Cable Installer/Technician within 3 months.- Commercial Cable Installer/Technician- - Install, maintain, and repair cable systems, primarily incorporating television and internet services. Ran and route CAT5 or CAT6 cable from company poles to and within infrastructures and businesses alike. Furnished and renovated internet connectivity based systems into businesses needing brand new connectivity.- - Provided the highest of quality service to all customers and business partners on the job until the company dispended. Started school at New Horizons for Net+, Sec+ and CCNA. Security Officer II MGM - Las Vegas, NV August 2017 to February 2018 - Monitored central computer systems including camera systems, all radio frequencies and all alarm systems including fire, door intrusion and distress alarms tests. Observed all current and past surveillance systems data and information to gather more information needed for police investigation.- - Patrolled campus and ensured safety of infrastructure by prohibiting articles and personnel into restricted areas. Prepared reports on property damage, theft, and unauthorized substances- - Worked 3rd shift overnight while continuing to attend online school in the morning to get my degree. Left due to pursue different career in Fort Worth, TX. Deployment Engineer CDW - Las Vegas, NV March 2017 to July 2017 - Mass-configured computer systems to provide configurations and products with a team of configuration installers that was able to configure over 1000 computer systems a day for schools, companies, and government agencies.- - Implemented specific system requirements of components and programs necessary to complete installation and serve customers with complaints to resolve any issues with provided products IT Network Systems Administrator V & Saxe Theater - Las Vegas, NV March 2016 to March 2017 Cable Installer- - Ran cables to and from the main data frame in the cooperate building for communication between servers and every office; as well as configured switches and routers to run dedicated backbone trunk lines for every device.- - Utilized Active Directory services for new computer and users to access departmental domains with specific security capabilities.- - Installed and programed IP cameras throughout building in order to maintain security- Systems Administrator- - Maintained and configured hardware/software systems to run audio and visual shows.- - Installed all systems such as IP cameras, network printers, point-of-sale systems and managers, Windows 10 computer systems and media servers for shows and directory and mail servers to manage all systems.- - Preformed technical research to develop and innovate infrastructure by implementing best practices in the industry and evaluating business performance. Was involved in staff recruiting and training of new personnel- - Ensured system hardware, operating systems, software systems, and related products Education Associates of Science in Network Systems Administration in Network Systems Administration ITT Technical Institute - Las Vegas, NV 2016 Links https://www.linkedin.com/in/clayton-rendon-03573892\n",
      "\n",
      "No skills\n",
      "Education\n",
      "\n",
      "Education- New Horizons Computer & Learning Center - Fort Worth, TX - Network+, Security+ and CCNA- 01/2019 to Present- - ITT Technical Institute - Las Vegas, NV - Associates of Science in Network Systems Administration- Completed 2016 Work Experience Contract Cable Installer Fiber Tech Inc - Fort Worth, TX June 2018 to January 2019 Residential Cable Installer- - Routed, ran, and/or pulled wire cable lines, j-hooks and other related structures from outside poles to resident's houses as well as within walls and/or attics if necessary.- - Conducted thorough inspections of each line I ran to meet highly specific conformities as well as prevailing. Integrated cable, phone, and internet network systems and assured each is properly engaged and useful to the customer- - Never needed a manager to re-install of systems and cables I implemented and as a result was promoted to Commercial Cable Installer/Technician within 3 months.- Commercial Cable Installer/Technician- - Install, maintain, and repair cable systems, primarily incorporating television and internet services. Ran and route CAT5 or CAT6 cable from company poles to and within infrastructures and businesses alike. Furnished and renovated internet connectivity based systems into businesses needing brand new connectivity.- - Provided the highest of quality service to all customers and business partners on the job until the company dispended. Started school at New Horizons for Net+, Sec+ and CCNA. Security Officer II MGM - Las Vegas, NV August 2017 to February 2018 - Monitored central computer systems including camera systems, all radio frequencies and all alarm systems including fire, door intrusion and distress alarms tests. Observed all current and past surveillance systems data and information to gather more information needed for police investigation.- - Patrolled campus and ensured safety of infrastructure by prohibiting articles and personnel into restricted areas. Prepared reports on property damage, theft, and unauthorized substances- - Worked 3rd shift overnight while continuing to attend online school in the morning to get my degree. Left due to pursue different career in Fort Worth, TX. Deployment Engineer CDW - Las Vegas, NV March 2017 to July 2017 - Mass-configured computer systems to provide configurations and products with a team of configuration installers that was able to configure over 1000 computer systems a day for schools, companies, and government agencies.- - Implemented specific system requirements of components and programs necessary to complete installation and serve customers with complaints to resolve any issues with provided products IT Network Systems Administrator V & Saxe Theater - Las Vegas, NV March 2016 to March 2017 Cable Installer- - Ran cables to and from the main data frame in the cooperate building for communication between servers and every office; as well as configured switches and routers to run dedicated backbone trunk lines for every device.- - Utilized Active Directory services for new computer and users to access departmental domains with specific security capabilities.- - Installed and programed IP cameras throughout building in order to maintain security- Systems Administrator- - Maintained and configured hardware/software systems to run audio and visual shows.- - Installed all systems such as IP cameras, network printers, point-of-sale systems and managers, Windows 10 computer systems and media servers for shows and directory and mail servers to manage all systems.- - Preformed technical research to develop and innovate infrastructure by implementing best practices in the industry and evaluating business performance. Was involved in staff recruiting and training of new personnel- - Ensured system hardware, operating systems, software systems, and related products Education Associates of Science in Network Systems Administration in Network Systems Administration ITT Technical Institute - Las Vegas, NV 2016 Links https://www.linkedin.com/in/clayton-rendon-03573892\n"
     ]
    }
   ],
   "source": [
    "import re\n",
    "res = getCleanResume(\"24869.txt\")#.replace(\"-\", \"\").replace(\"  \", \" \")\n",
    "# get rid of any non-aplhanumeric characters\n",
    "#res = re.sub(r\"[^a-zA-Z0-9]+\", '', res)\n",
    "print(res)\n",
    "print()\n",
    "if \"skills\" in res.lower():\n",
    "    print(\"Skills\")\n",
    "    print()\n",
    "    # find last occurence of skills\n",
    "    print(res[res.lower().rfind(\"skills\"):])\n",
    "    #print(res[res.lower().find(\"skill\"):])\n",
    "else:\n",
    "    print(\"No skills\")\n",
    "    \n",
    "if \"education\" in res.lower():\n",
    "    print(\"Education\")\n",
    "    print()\n",
    "    print(res[res.lower().find(\"education\"):])\n",
    "else: \n",
    "    print(\"No education\")"
   ]
  },
  {
   "cell_type": "code",
   "execution_count": 69,
   "metadata": {},
   "outputs": [
    {
     "name": "stdout",
     "output_type": "stream",
     "text": [
      "True\n",
      "True\n",
      "True\n",
      "True\n",
      "True\n"
     ]
    }
   ],
   "source": [
    "joint_res = eval(response['choices'][0][\"message\"][\"content\"])\n",
    "exps = []\n",
    "for exp in joint_res['Experience']:\n",
    "    res_gpt = exp['Responsibilities']\n",
    "    res_gpt = re.sub(r\"[^a-zA-Z0-9]+\", '', res_gpt)\n",
    "    exps.append(res_gpt)\n",
    "    \n",
    "    print(res_gpt in re.sub(r\"[^a-zA-Z0-9]+\", '', res)) \n",
    "    \n"
   ]
  },
  {
   "cell_type": "code",
   "execution_count": null,
   "metadata": {},
   "outputs": [],
   "source": [
    "\"\"\"Monitored and tuned long running jobs by working closely with the application development team and analyzing objects created or rebuilt indexes query tuning using SQL TRACE TKPROF Explain Plan TOAD Configures backups using Net backup monitoring and troubleshooting daily backup failures Oversees monitoring and performance tuning to ensure database remains healthy on consistent basis Performed upgrade from 10g to 11g ant to 12C using DBUA and applied Oracle quarterly patches to 11g software Created user accounts and accorded appropriate privileges Created database objects Performed Database replication from production to test development environment Using RMAN Data pump utilities and manually Highly experienced in implementing Oracle s Transportable Tablespaces TTS feature using Datapump Export Import Oracle 11g 10g allowing users to quickly move a user Tablespace across Oracle databases Expertise in implementing data refreshes at database schema table level using RMAN utility and Datapump conventional Export Import of Oracle 10g 11g 12C to Exadata Provided 24 7 support and reported to lead DBA Configured flash Recovery Area Working Knowledge of Ebusiness suite and Exadata Creating and restoring databases using Oracle Flashback Technology with Guaranteed restore point\"\"\"\n",
    "\"\"\"Monitored and tuned long running jobs by working closely with the application development team and analyzing objects created or rebuilt indexes query tuning using SQL TRACE TKPROF Explain Plan TOAD Configures backups using Net backup monitoring and troubleshooting daily backup failures Oversees monitoring and performance tuning to ensure database remains healthy on consistent basis Performed upgrade from 10g to 11g ant to 12C using DBUA and applied Oracle quarterly patches to 11g software Created user accounts and accorded appropriate privileges Created database objects Performed Database replication from production to test development environment Using RMAN Data pump utilities and manually Highly experienced in implementing Oracle s Transportable Tablespaces TTS feature using Datapump Export Import Oracle 11g 10g allowing users to quickly move a user Tablespace across Oracle databases Expertise in implementing data refreshes at database schema table level using RMAN utility and Datapump conventional Export Import of Oracle 10g 11g 12C to Exadata Provided 24 7 support and reported to lead DBA Configured flash Recovery Area Working Knowledge of E business suite and Exadata Creating and restoring databases using Oracle Flashback Technology with Guaranteed restore point\"\"\""
   ]
  },
  {
   "cell_type": "code",
   "execution_count": 49,
   "metadata": {},
   "outputs": [
    {
     "data": {
      "text/plain": [
       "['Work',\n",
       " 'Ebusiness',\n",
       " 'Montgomery',\n",
       " 'AL',\n",
       " 'Extended',\n",
       " 'March',\n",
       " '20th',\n",
       " 'reorganizing',\n",
       " 'standalone',\n",
       " 'Seattle',\n",
       " 'WA',\n",
       " 'RDBMS',\n",
       " 'Tools',\n",
       " 'EXPLAIN',\n",
       " 'PLAN',\n",
       " 'STATSPACK',\n",
       " 'Toad',\n",
       " 'Putty',\n",
       " 'NX',\n",
       " 'client',\n",
       " 'WinScp',\n",
       " 'Remote',\n",
       " 'Desktop',\n",
       " 'Connection',\n",
       " 'VNC',\n",
       " 'Team',\n",
       " 'Viewer',\n",
       " 'LogMeIn',\n",
       " 'Cisco',\n",
       " 'VPN',\n",
       " 'Client',\n",
       " 'Plus',\n",
       " 'ASM',\n",
       " 'DataPu',\n",
       " 'Additional',\n",
       " 'General',\n",
       " 'Windows',\n",
       " 'Client',\n",
       " '2000',\n",
       " 'XP',\n",
       " 'Vista',\n",
       " 'Windows',\n",
       " 'Windows',\n",
       " '2003',\n",
       " 'UNIX',\n",
       " 'Sun',\n",
       " 'Solaris',\n",
       " 'HPUX',\n",
       " '11i',\n",
       " 'v2',\n",
       " 'Linux',\n",
       " 'Red',\n",
       " 'Hat',\n",
       " 'Centos',\n",
       " 'Microsoft',\n",
       " 'Office',\n",
       " 'Suite']"
      ]
     },
     "execution_count": 49,
     "metadata": {},
     "output_type": "execute_result"
    }
   ],
   "source": [
    "[x for x in res.split() if x not in joint_res.split()]"
   ]
  },
  {
   "cell_type": "code",
   "execution_count": 9,
   "metadata": {},
   "outputs": [
    {
     "name": "stdout",
     "output_type": "stream",
     "text": [
      "You are a detail-oriented resume parser who does not miss any information in resumes.\n",
      "Please parse the resume into the following JSON format: \n",
      "{\n",
      "    \"Basic_Info\": {\n",
      "        \"Current_Title\": \"\",\n",
      "        \"Current_Company\": \"\",\n",
      "        \"Location\": \"\",\n",
      "        \"Bio\": \"\"\n",
      "    },\n",
      "    \"Experience\": [\n",
      "        {\n",
      "            \"Job_Title\": \"\",\n",
      "            \"Company\": \"\",\n",
      "            \"Location\": \"\",\n",
      "            \"Start_Date\": \"\",\n",
      "            \"End_Date\": \"\",\n",
      "            \"Responsibilities\": \"\"\n",
      "        }\n",
      "    ],\n",
      "    \"Education\": [\n",
      "        {\n",
      "            \"Degree\": \"\",\n",
      "            \"Field\": \"\",\n",
      "            \"Institution\": \"\",\n",
      "            \"Location\": \"\",\n",
      "            \"Graduation_Date\": \"\"\n",
      "        }\n",
      "    ],\n",
      "    \"Projects\": [\n",
      "        {\n",
      "            \"Project_Title\": \"\",\n",
      "            \"Description\": \"\",\n",
      "            \"Date\": \"\"\n",
      "        }\n",
      "    ],\n",
      "    \"Skills\": [],\n",
      "    \"Technical_Skills\": [],\n",
      "    \"Links\": [],\n",
      "    \"Certifications\": [\n",
      "        {\n",
      "            \"Certification_Title\": \"\",\n",
      "            \"Issuing_Organization\": \"\",\n",
      "            \"Date_Issued\": \"\"\n",
      "        }\n",
      "    ],\n",
      "    \"Awards\": [\n",
      "        {\n",
      "            \"Award_Title\": \"\",\n",
      "            \"Issuing_Organization\": \"\"\n",
      "        }\n",
      "    ],\n",
      "    \"Publications\": [\n",
      "        {\n",
      "            \"Publication_Title\": \"\",\n",
      "            \"Date\": \"\"\n",
      "        }\n",
      "    ]\n",
      "}\n",
      "\n"
     ]
    }
   ],
   "source": [
    "print(SYSINS + \"\\n\" + INSTRUCTION)"
   ]
  },
  {
   "cell_type": "code",
   "execution_count": 17,
   "metadata": {},
   "outputs": [
    {
     "name": "stdout",
     "output_type": "stream",
     "text": [
      "Technical Representative Technical Representative Portland, OR Work Experience Technical Representative September 2018 to Present Manage 110 accounts across 14 western states to provide technical consulting, product applications and client training Facilitate client meetings, relations and devise plans for increased profitability Create demand via product marketing & positioning, market infiltration strategies, tradeshows & presentations and B2B sales Adapt to market fluctuations by generating new business with national distributors and manufacturers Provide industry knowledge and collaborate with R&D to shape new and improved product profiles R&D Manager, IPM Specialist, Database Administrator Terra Nova Nurseries January 2017 to September 2018 Perpetuated new cultivar ideas & development to final patented products Tracked data, provided photography and wrote product descriptions Maintained plant health by developing fertilizer, lighting, pesticide and beneficial insect regiments Propagated plants via cuttings and pollination Program Coordinator School Gardening for South Carolina Educators May 2015 to November 2016 May 2015---November 2016  Created and managed online horticulture workshops and courses Conducted meta-analyses for preliminary environmental reports Devised follow-up research to measure program's impact Coordinated volunteer and internship programs Objective Driven, passionate horticulturalist seeking a career in research and consulting Education Bachelor of Science in Marie Biology in Marie Biology College of Charleston Charleston, SC May 2015 Skills Data analytics, Spss, Sap, Srm, Written and verbal, Tissue culture, Excel, Microsoft excel, Budgeting\n"
     ]
    }
   ],
   "source": [
    "print(getCleanResume(\"00127.txt\"))"
   ]
  },
  {
   "cell_type": "code",
   "execution_count": 18,
   "metadata": {},
   "outputs": [],
   "source": [
    "import os"
   ]
  },
  {
   "cell_type": "code",
   "execution_count": 20,
   "metadata": {},
   "outputs": [
    {
     "name": "stdout",
     "output_type": "stream",
     "text": [
      "21887\n"
     ]
    }
   ],
   "source": [
    "i = 0\n",
    "for temp in os.listdir(\"resumes_groupby_tokens\"):\n",
    "    with open(\"resumes_groupby_tokens/\" + temp) as f:\n",
    "        res = f.readlines()\n",
    "    i += len(res)\n",
    "    \n",
    "print(i)"
   ]
  },
  {
   "cell_type": "code",
   "execution_count": null,
   "metadata": {},
   "outputs": [],
   "source": []
  }
 ],
 "metadata": {
  "kernelspec": {
   "display_name": "resume_research",
   "language": "python",
   "name": "python3"
  },
  "language_info": {
   "codemirror_mode": {
    "name": "ipython",
    "version": 3
   },
   "file_extension": ".py",
   "mimetype": "text/x-python",
   "name": "python",
   "nbconvert_exporter": "python",
   "pygments_lexer": "ipython3",
   "version": "3.11.4"
  },
  "orig_nbformat": 4
 },
 "nbformat": 4,
 "nbformat_minor": 2
}
