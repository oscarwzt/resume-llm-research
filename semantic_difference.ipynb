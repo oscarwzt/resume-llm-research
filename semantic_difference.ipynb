{
 "cells": [
  {
   "cell_type": "code",
   "execution_count": 1,
   "metadata": {},
   "outputs": [],
   "source": [
    "import json\n",
    "import os\n",
    "from utils import *\n",
    "from sklearn.feature_extraction.text import TfidfVectorizer\n",
    "from numpy import dot\n",
    "from numpy.linalg import norm\n",
    "from resume_fields import *\n",
    "import matplotlib.pyplot as plt\n",
    "import seaborn as sns\n",
    "import numpy as np\n",
    "import pandas as pd\n",
    "import spacy\n",
    "from gensim.models import Doc2Vec, Word2Vec\n",
    "from gensim.models.doc2vec import TaggedDocument\n",
    "from scipy.spatial.distance import cosine"
   ]
  },
  {
   "cell_type": "markdown",
   "metadata": {},
   "source": [
    "# Semantic similarities. \n"
   ]
  },
  {
   "cell_type": "markdown",
   "metadata": {},
   "source": [
    "## responsibilities"
   ]
  },
  {
   "cell_type": "code",
   "execution_count": 30,
   "metadata": {},
   "outputs": [],
   "source": [
    "# with open(\"parsed_resume_jsons/baseline_comparison.json\", \"r\") as f:\n",
    "#     baseline_comparison = json.load(f)\n",
    "    \n",
    "with open(\"new_baseline_comparison.json\", \"r\") as f:\n",
    "    baseline_comparison = json.load(f)\n",
    "baseline = baseline_comparison[\"baseline\"]\n",
    "chatgpt = baseline_comparison[\"chatgpt\"]\n",
    "llama2 = baseline_comparison[\"llama2\"]\n",
    "keys = list(baseline.keys())"
   ]
  },
  {
   "cell_type": "code",
   "execution_count": 3,
   "metadata": {},
   "outputs": [
    {
     "name": "stdout",
     "output_type": "stream",
     "text": [
      "0.9974236330629269\n"
     ]
    }
   ],
   "source": [
    "temp1 = llama2[keys[0]][EXPERIENCE][0][RESPONSIBILITIES]\n",
    "temp2 = chatgpt[keys[0]][EXPERIENCE][0][RESPONSIBILITIES]\n",
    "\n",
    "nlp = spacy.load(\"en_core_web_md\")\n",
    "doc1 = nlp(temp1)\n",
    "doc2 = nlp(temp2)\n",
    "\n",
    "similarity = doc1.similarity(doc2)\n",
    "print(similarity)\n"
   ]
  },
  {
   "cell_type": "code",
   "execution_count": 4,
   "metadata": {},
   "outputs": [
    {
     "name": "stdout",
     "output_type": "stream",
     "text": [
      "00690.txt\n",
      "20088.txt\n"
     ]
    }
   ],
   "source": [
    "for k in keys:\n",
    "    for resp in llama2[k][EXPERIENCE]:\n",
    "        try:\n",
    "            resp[RESPONSIBILITIES]# = resp[RESPONSIBILITIES].replace(\"\\n\", \" \")\n",
    "        except:\n",
    "            print(k)\n",
    "    "
   ]
  },
  {
   "cell_type": "markdown",
   "metadata": {},
   "source": [
    "Note:   \n",
    "00690.txt has \"GPA\" as \"responsibility\" for 1 experience    \n",
    "20088.txt has 1 missing \"responsibility\" for 1 experience"
   ]
  },
  {
   "cell_type": "code",
   "execution_count": 5,
   "metadata": {},
   "outputs": [
    {
     "data": {
      "text/plain": [
       "2"
      ]
     },
     "execution_count": 5,
     "metadata": {},
     "output_type": "execute_result"
    }
   ],
   "source": [
    "[llama2[keys[k]][EXPERIENCE][i][RESPONSIBILITIES] if RESPONSIBILITIES in llama2[keys[k]][EXPERIENCE][i] else \"NoneNone\" for k in range(len(keys)) for i in range(len(llama2[keys[k]][EXPERIENCE]))].count(\"NoneNone\")"
   ]
  },
  {
   "cell_type": "code",
   "execution_count": 89,
   "metadata": {},
   "outputs": [
    {
     "data": {
      "text/plain": [
       "477"
      ]
     },
     "execution_count": 89,
     "metadata": {},
     "output_type": "execute_result"
    }
   ],
   "source": [
    "chatgpt_responsibilities = [chatgpt[keys[k]][EXPERIENCE][i][RESPONSIBILITIES] for k in range(len(keys)) for i in range(len(chatgpt[keys[k]][EXPERIENCE]))]\n",
    "llama2_responsibilities = [llama2[keys[k]][EXPERIENCE][i][RESPONSIBILITIES].replace(\"\\ufffd\", \"\").replace(\"- \", \"\") if RESPONSIBILITIES in llama2[keys[k]][EXPERIENCE][i] else \"\" for k in range(len(keys)) for i in range(len(llama2[keys[k]][EXPERIENCE]))]\n",
    "baseline_responsibilities = [baseline[keys[k]][EXPERIENCE][i][RESPONSIBILITIES] for k in range(len(keys)) for i in range(len(baseline[keys[k]][EXPERIENCE]))]\n",
    "\n",
    "llama2_responsibilities = [\n",
    "    [llama2[keys[k]][EXPERIENCE][i][RESPONSIBILITIES].replace(\"\\ufffd\", \"\").replace(\"- \", \"\") if RESPONSIBILITIES in llama2[keys[k]][EXPERIENCE][i] else \"\" for i in range(len(llama2[keys[k]][EXPERIENCE]))] for k in range(len(keys))\n",
    "]\n",
    "chatgpt_responsibilities = [\n",
    "    [chatgpt[keys[k]][EXPERIENCE][i][RESPONSIBILITIES] for i in range(len(chatgpt[keys[k]][EXPERIENCE]))] for k in range(len(keys))\n",
    "]\n",
    "baseline_responsibilities = [\n",
    "    [baseline[keys[k]][EXPERIENCE][i][RESPONSIBILITIES] for i in range(len(baseline[keys[k]][EXPERIENCE]))] for k in range(len(keys))\n",
    "]\n",
    "assert len(llama2_responsibilities) == len(chatgpt_responsibilities) == len(baseline_responsibilities) == 118\n",
    "\n",
    "llama2_responsibilities = [\" \".join(llama2_responsibilities[i]) for i in range(len(llama2_responsibilities))]\n",
    "chatgpt_responsibilities = [\" \".join(chatgpt_responsibilities[i]) for i in range(len(chatgpt_responsibilities))]\n",
    "baseline_responsibilities = [\" \".join(baseline_responsibilities[i]) for i in range(len(baseline_responsibilities))]\n",
    "assert len(llama2_responsibilities) == len(chatgpt_responsibilities) == len(baseline_responsibilities) == 118"
   ]
  },
  {
   "cell_type": "code",
   "execution_count": 9,
   "metadata": {},
   "outputs": [],
   "source": [
    "\n",
    "processed_chatgpt_responsibilities = list(nlp.pipe(chatgpt_responsibilities))\n",
    "processed_llama2_responsibilities = list(nlp.pipe(llama2_responsibilities))\n",
    "processed_baseline_responsibilities = list(nlp.pipe(baseline_responsibilities))\n",
    "\n",
    "chatgpt_baseline_similarities = np.array([doc1.similarity(doc2) for doc1, doc2 in zip(processed_chatgpt_responsibilities, processed_baseline_responsibilities)])\n",
    "llama2_baseline_similarities = np.array([doc1.similarity(doc2) for doc1, doc2 in zip(processed_llama2_responsibilities, processed_baseline_responsibilities)])"
   ]
  },
  {
   "cell_type": "code",
   "execution_count": 17,
   "metadata": {},
   "outputs": [],
   "source": [
    "weights = np.array([len(temp.split()) for temp in baseline_responsibilities])\n",
    "weights = weights / weights.sum()\n",
    "\n",
    "weighted_chatgpt_baseline_similarities = chatgpt_baseline_similarities * weights\n",
    "weighted_llama2_baseline_similarities = llama2_baseline_similarities * weights"
   ]
  },
  {
   "cell_type": "code",
   "execution_count": 21,
   "metadata": {},
   "outputs": [
    {
     "data": {
      "text/plain": [
       "array([False, False, False, False, False, False, False, False, False,\n",
       "       False, False, False, False, False, False, False, False, False,\n",
       "       False, False, False, False, False, False, False, False, False,\n",
       "       False, False, False, False, False, False, False, False, False,\n",
       "       False, False, False, False, False, False, False, False, False,\n",
       "       False, False, False, False, False, False, False, False, False,\n",
       "       False, False, False, False, False, False, False, False, False,\n",
       "       False, False, False, False, False, False, False, False, False,\n",
       "       False, False, False, False, False, False, False, False, False,\n",
       "       False, False, False, False, False, False, False, False, False,\n",
       "       False, False, False, False, False, False, False, False, False,\n",
       "       False, False, False, False, False, False, False, False, False,\n",
       "       False, False, False, False, False, False, False, False, False,\n",
       "       False])"
      ]
     },
     "execution_count": 21,
     "metadata": {},
     "output_type": "execute_result"
    }
   ],
   "source": [
    "weighted_chatgpt_baseline_similarities "
   ]
  },
  {
   "cell_type": "code",
   "execution_count": 31,
   "metadata": {},
   "outputs": [
    {
     "name": "stdout",
     "output_type": "stream",
     "text": [
      "0.9902041386695454\n",
      "0.9922120063386655\n"
     ]
    }
   ],
   "source": [
    "weighted_average_chatgpt_baseline_similarity = weighted_chatgpt_baseline_similarities.sum()\n",
    "weighted_average_llama2_baseline_similarity = weighted_llama2_baseline_similarities.sum()\n",
    "print(weighted_average_chatgpt_baseline_similarity)\n",
    "print(weighted_average_llama2_baseline_similarity)"
   ]
  },
  {
   "cell_type": "code",
   "execution_count": 33,
   "metadata": {},
   "outputs": [
    {
     "data": {
      "text/html": [
       "<div>\n",
       "<style scoped>\n",
       "    .dataframe tbody tr th:only-of-type {\n",
       "        vertical-align: middle;\n",
       "    }\n",
       "\n",
       "    .dataframe tbody tr th {\n",
       "        vertical-align: top;\n",
       "    }\n",
       "\n",
       "    .dataframe thead th {\n",
       "        text-align: right;\n",
       "    }\n",
       "</style>\n",
       "<table border=\"1\" class=\"dataframe\">\n",
       "  <thead>\n",
       "    <tr style=\"text-align: right;\">\n",
       "      <th></th>\n",
       "      <th>chatGPT vs. Baseline</th>\n",
       "      <th>Llama2 vs. Baseline</th>\n",
       "      <th>weights</th>\n",
       "    </tr>\n",
       "  </thead>\n",
       "  <tbody>\n",
       "    <tr>\n",
       "      <th>count</th>\n",
       "      <td>118.000000</td>\n",
       "      <td>118.000000</td>\n",
       "      <td>118.000000</td>\n",
       "    </tr>\n",
       "    <tr>\n",
       "      <th>mean</th>\n",
       "      <td>0.989502</td>\n",
       "      <td>0.977787</td>\n",
       "      <td>0.008475</td>\n",
       "    </tr>\n",
       "    <tr>\n",
       "      <th>std</th>\n",
       "      <td>0.015660</td>\n",
       "      <td>0.110893</td>\n",
       "      <td>0.004905</td>\n",
       "    </tr>\n",
       "    <tr>\n",
       "      <th>min</th>\n",
       "      <td>0.927528</td>\n",
       "      <td>0.009889</td>\n",
       "      <td>0.000342</td>\n",
       "    </tr>\n",
       "    <tr>\n",
       "      <th>25%</th>\n",
       "      <td>0.983596</td>\n",
       "      <td>0.992475</td>\n",
       "      <td>0.004861</td>\n",
       "    </tr>\n",
       "    <tr>\n",
       "      <th>50%</th>\n",
       "      <td>0.997918</td>\n",
       "      <td>0.999298</td>\n",
       "      <td>0.007205</td>\n",
       "    </tr>\n",
       "    <tr>\n",
       "      <th>75%</th>\n",
       "      <td>1.000000</td>\n",
       "      <td>0.999963</td>\n",
       "      <td>0.011364</td>\n",
       "    </tr>\n",
       "    <tr>\n",
       "      <th>max</th>\n",
       "      <td>1.000000</td>\n",
       "      <td>1.000000</td>\n",
       "      <td>0.021017</td>\n",
       "    </tr>\n",
       "  </tbody>\n",
       "</table>\n",
       "</div>"
      ],
      "text/plain": [
       "       chatGPT vs. Baseline  Llama2 vs. Baseline     weights\n",
       "count            118.000000           118.000000  118.000000\n",
       "mean               0.989502             0.977787    0.008475\n",
       "std                0.015660             0.110893    0.004905\n",
       "min                0.927528             0.009889    0.000342\n",
       "25%                0.983596             0.992475    0.004861\n",
       "50%                0.997918             0.999298    0.007205\n",
       "75%                1.000000             0.999963    0.011364\n",
       "max                1.000000             1.000000    0.021017"
      ]
     },
     "execution_count": 33,
     "metadata": {},
     "output_type": "execute_result"
    }
   ],
   "source": [
    "df = pd.DataFrame({\"chatGPT vs. Baseline\": chatgpt_baseline_similarities, \"Llama2 vs. Baseline\": llama2_baseline_similarities, \"weights\": weights})\n",
    "df.to_csv(\"responsibilities_similarity.csv\")\n",
    "df.describe()"
   ]
  },
  {
   "cell_type": "code",
   "execution_count": null,
   "metadata": {},
   "outputs": [],
   "source": []
  },
  {
   "cell_type": "code",
   "execution_count": 29,
   "metadata": {},
   "outputs": [
    {
     "data": {
      "text/html": [
       "<div>\n",
       "<style scoped>\n",
       "    .dataframe tbody tr th:only-of-type {\n",
       "        vertical-align: middle;\n",
       "    }\n",
       "\n",
       "    .dataframe tbody tr th {\n",
       "        vertical-align: top;\n",
       "    }\n",
       "\n",
       "    .dataframe thead th {\n",
       "        text-align: right;\n",
       "    }\n",
       "</style>\n",
       "<table border=\"1\" class=\"dataframe\">\n",
       "  <thead>\n",
       "    <tr style=\"text-align: right;\">\n",
       "      <th></th>\n",
       "      <th>ChatGPT</th>\n",
       "      <th>LLAMA2</th>\n",
       "    </tr>\n",
       "  </thead>\n",
       "  <tbody>\n",
       "    <tr>\n",
       "      <th>count</th>\n",
       "      <td>118.000000</td>\n",
       "      <td>118.000000</td>\n",
       "    </tr>\n",
       "    <tr>\n",
       "      <th>mean</th>\n",
       "      <td>0.989502</td>\n",
       "      <td>0.977787</td>\n",
       "    </tr>\n",
       "    <tr>\n",
       "      <th>std</th>\n",
       "      <td>0.015660</td>\n",
       "      <td>0.110893</td>\n",
       "    </tr>\n",
       "    <tr>\n",
       "      <th>min</th>\n",
       "      <td>0.927528</td>\n",
       "      <td>0.009889</td>\n",
       "    </tr>\n",
       "    <tr>\n",
       "      <th>25%</th>\n",
       "      <td>0.983596</td>\n",
       "      <td>0.992475</td>\n",
       "    </tr>\n",
       "    <tr>\n",
       "      <th>50%</th>\n",
       "      <td>0.997918</td>\n",
       "      <td>0.999298</td>\n",
       "    </tr>\n",
       "    <tr>\n",
       "      <th>75%</th>\n",
       "      <td>1.000000</td>\n",
       "      <td>0.999963</td>\n",
       "    </tr>\n",
       "    <tr>\n",
       "      <th>max</th>\n",
       "      <td>1.000000</td>\n",
       "      <td>1.000000</td>\n",
       "    </tr>\n",
       "  </tbody>\n",
       "</table>\n",
       "</div>"
      ],
      "text/plain": [
       "          ChatGPT      LLAMA2\n",
       "count  118.000000  118.000000\n",
       "mean     0.989502    0.977787\n",
       "std      0.015660    0.110893\n",
       "min      0.927528    0.009889\n",
       "25%      0.983596    0.992475\n",
       "50%      0.997918    0.999298\n",
       "75%      1.000000    0.999963\n",
       "max      1.000000    1.000000"
      ]
     },
     "execution_count": 29,
     "metadata": {},
     "output_type": "execute_result"
    }
   ],
   "source": [
    "descriptive_comparison = pd.concat([pd.Series(chatgpt_baseline_similarities).describe(), pd.Series(llama2_baseline_similarities).describe()], axis=1)\n",
    "descriptive_comparison.columns = [\"ChatGPT\", \"LLAMA2\"]\n",
    "descriptive_comparison"
   ]
  },
  {
   "cell_type": "code",
   "execution_count": 71,
   "metadata": {},
   "outputs": [
    {
     "data": {
      "text/plain": [
       "118"
      ]
     },
     "execution_count": 71,
     "metadata": {},
     "output_type": "execute_result"
    }
   ],
   "source": []
  },
  {
   "cell_type": "code",
   "execution_count": 34,
   "metadata": {},
   "outputs": [
    {
     "data": {
      "image/png": "[encoded data removed]",
      "text/plain": [
       "<Figure size 640x480 with 1 Axes>"
      ]
     },
     "metadata": {},
     "output_type": "display_data"
    }
   ],
   "source": [
    "sns.histplot(chatgpt_baseline_similarities, bins=30, alpha = 0.5, label = \"ChatGPT\")\n",
    "sns.histplot(llama2_baseline_similarities, bins=30, alpha = 0.5, label = \"LLAMA2\")\n",
    "plt.legend()\n",
    "plt.title(\"Similarity of Responsibilities to Baseline\");"
   ]
  },
  {
   "cell_type": "code",
   "execution_count": 9,
   "metadata": {},
   "outputs": [
    {
     "data": {
      "text/plain": [
       "'Contract position with Cintas through Insight Global. Responsible for coordinating over 100 appointments daily, often valued over $100,000. Performed scheduling duties by making outbound calls to confirm and verify client information. Maintained organization and call data for reports while utilizing Excel and internal databases. Revise and provide SOW upon request.'"
      ]
     },
     "execution_count": 9,
     "metadata": {},
     "output_type": "execute_result"
    }
   ],
   "source": [
    "llama2[keys[0]][EXPERIENCE][0][RESPONSIBILITIES]"
   ]
  },
  {
   "cell_type": "markdown",
   "metadata": {},
   "source": [
    "## Skills"
   ]
  },
  {
   "cell_type": "code",
   "execution_count": 36,
   "metadata": {},
   "outputs": [
    {
     "name": "stderr",
     "output_type": "stream",
     "text": [
      "/var/folders/bt/709h7c513ld30l7ynqg_cv0c0000gn/T/ipykernel_68201/196020786.py:9: UserWarning: [W008] Evaluating Doc.similarity based on empty vectors.\n",
      "  chatgpt_baseline_similarities = np.array([doc1.similarity(doc2) for doc1, doc2 in zip(processed_chatgpt_skills, processed_baseline_skills)])\n",
      "/var/folders/bt/709h7c513ld30l7ynqg_cv0c0000gn/T/ipykernel_68201/196020786.py:10: UserWarning: [W008] Evaluating Doc.similarity based on empty vectors.\n",
      "  llama2_baseline_similarities = np.array([doc1.similarity(doc2) for doc1, doc2 in zip(processed_llama2_skills, processed_baseline_skills)])\n"
     ]
    },
    {
     "data": {
      "text/html": [
       "<div>\n",
       "<style scoped>\n",
       "    .dataframe tbody tr th:only-of-type {\n",
       "        vertical-align: middle;\n",
       "    }\n",
       "\n",
       "    .dataframe tbody tr th {\n",
       "        vertical-align: top;\n",
       "    }\n",
       "\n",
       "    .dataframe thead th {\n",
       "        text-align: right;\n",
       "    }\n",
       "</style>\n",
       "<table border=\"1\" class=\"dataframe\">\n",
       "  <thead>\n",
       "    <tr style=\"text-align: right;\">\n",
       "      <th></th>\n",
       "      <th>ChatGPT</th>\n",
       "      <th>LLAMA2</th>\n",
       "    </tr>\n",
       "  </thead>\n",
       "  <tbody>\n",
       "    <tr>\n",
       "      <th>count</th>\n",
       "      <td>118.000000</td>\n",
       "      <td>118.000000</td>\n",
       "    </tr>\n",
       "    <tr>\n",
       "      <th>mean</th>\n",
       "      <td>0.791047</td>\n",
       "      <td>0.828181</td>\n",
       "    </tr>\n",
       "    <tr>\n",
       "      <th>std</th>\n",
       "      <td>0.352424</td>\n",
       "      <td>0.297983</td>\n",
       "    </tr>\n",
       "    <tr>\n",
       "      <th>min</th>\n",
       "      <td>0.000000</td>\n",
       "      <td>0.000000</td>\n",
       "    </tr>\n",
       "    <tr>\n",
       "      <th>25%</th>\n",
       "      <td>0.744472</td>\n",
       "      <td>0.858615</td>\n",
       "    </tr>\n",
       "    <tr>\n",
       "      <th>50%</th>\n",
       "      <td>0.998425</td>\n",
       "      <td>0.993819</td>\n",
       "    </tr>\n",
       "    <tr>\n",
       "      <th>75%</th>\n",
       "      <td>1.000000</td>\n",
       "      <td>1.000000</td>\n",
       "    </tr>\n",
       "    <tr>\n",
       "      <th>max</th>\n",
       "      <td>1.000000</td>\n",
       "      <td>1.000000</td>\n",
       "    </tr>\n",
       "  </tbody>\n",
       "</table>\n",
       "</div>"
      ],
      "text/plain": [
       "          ChatGPT      LLAMA2\n",
       "count  118.000000  118.000000\n",
       "mean     0.791047    0.828181\n",
       "std      0.352424    0.297983\n",
       "min      0.000000    0.000000\n",
       "25%      0.744472    0.858615\n",
       "50%      0.998425    0.993819\n",
       "75%      1.000000    1.000000\n",
       "max      1.000000    1.000000"
      ]
     },
     "execution_count": 36,
     "metadata": {},
     "output_type": "execute_result"
    }
   ],
   "source": [
    "llama2_skills = [\", \".join(llama2[key][SKILLS] + llama2[key][TECHNICAL_SKILLS]).upper() for key in keys]\n",
    "chatgpt_skills = [\", \".join(chatgpt[key][SKILLS] + chatgpt[key][TECHNICAL_SKILLS]).upper() for key in keys]\n",
    "baseline_skills = [\", \".join(baseline[key][SKILLS] + baseline[key][TECHNICAL_SKILLS]).upper() for key in keys]\n",
    "\n",
    "processed_chatgpt_skills = list(nlp.pipe(chatgpt_skills))\n",
    "processed_llama2_skills = list(nlp.pipe(llama2_skills))\n",
    "processed_baseline_skills = list(nlp.pipe(baseline_skills))\n",
    "\n",
    "chatgpt_baseline_similarities = np.array([doc1.similarity(doc2) for doc1, doc2 in zip(processed_chatgpt_skills, processed_baseline_skills)])\n",
    "llama2_baseline_similarities = np.array([doc1.similarity(doc2) for doc1, doc2 in zip(processed_llama2_skills, processed_baseline_skills)])\n",
    "\n",
    "skill_similarities = pd.DataFrame({\"ChatGPT\": chatgpt_baseline_similarities, \"LLAMA2\": llama2_baseline_similarities})\n",
    "skill_similarities.to_csv(\"skill_similarity.csv\")\n",
    "skill_similarities.describe()"
   ]
  },
  {
   "cell_type": "code",
   "execution_count": null,
   "metadata": {},
   "outputs": [],
   "source": [
    "# \tChatGPT\tLLAMA2\n",
    "# count\t118.000000\t118.000000\n",
    "# mean\t0.791047\t0.828181\n",
    "# std\t0.352424\t0.297983\n",
    "# min\t0.000000\t0.000000\n",
    "# 25%\t0.744472\t0.858615\n",
    "# 50%\t0.998425\t0.993819\n",
    "# 75%\t1.000000\t1.000000\n",
    "# max\t1.000000\t1.000000"
   ]
  },
  {
   "cell_type": "code",
   "execution_count": 37,
   "metadata": {},
   "outputs": [
    {
     "data": {
      "image/png": "[encoded data removed]",
      "text/plain": [
       "<Figure size 1000x600 with 1 Axes>"
      ]
     },
     "metadata": {},
     "output_type": "display_data"
    }
   ],
   "source": [
    "plt.figure(figsize=(10, 6))\n",
    "sns.histplot(chatgpt_baseline_similarities, bins=30, alpha = 0.5, label = \"ChatGPT\")\n",
    "sns.histplot(llama2_baseline_similarities, bins=30, alpha = 0.5, label = \"LLAMA2\")\n",
    "plt.legend()\n",
    "plt.title(\"Similarity of Skills to Baseline\");\n"
   ]
  },
  {
   "cell_type": "code",
   "execution_count": 38,
   "metadata": {},
   "outputs": [
    {
     "name": "stdout",
     "output_type": "stream",
     "text": [
      "Llama2 weighted average similarity: 0.8564916289883977\n",
      "ChatGPT weighted average similarity: 0.7784539266202143\n"
     ]
    }
   ],
   "source": [
    "weights = np.array([0.00790514, 0.00632411, 0.00711462, 0.        , 0.00711462,\n",
    "       0.01343874, 0.00316206, 0.00948617, 0.00869565, 0.00079051,\n",
    "       0.01106719, 0.00869565, 0.        , 0.        , 0.00474308,\n",
    "       0.0055336 , 0.01660079, 0.00395257, 0.01264822, 0.        ,\n",
    "       0.00237154, 0.01027668, 0.        , 0.00395257, 0.00316206,\n",
    "       0.0055336 , 0.0173913 , 0.02055336, 0.00395257, 0.        ,\n",
    "       0.0055336 , 0.00237154, 0.        , 0.01106719, 0.01660079,\n",
    "       0.0173913 , 0.        , 0.        , 0.00711462, 0.00316206,\n",
    "       0.0055336 , 0.02213439, 0.00869565, 0.        , 0.01027668,\n",
    "       0.01343874, 0.0055336 , 0.01027668, 0.        , 0.00948617,\n",
    "       0.00869565, 0.01185771, 0.01422925, 0.00316206, 0.01027668,\n",
    "       0.00395257, 0.00790514, 0.00395257, 0.00316206, 0.03003953,\n",
    "       0.01660079, 0.01106719, 0.        , 0.00790514, 0.        ,\n",
    "       0.00948617, 0.03794466, 0.00790514, 0.0173913 , 0.00869565,\n",
    "       0.00395257, 0.00316206, 0.01422925, 0.00711462, 0.        ,\n",
    "       0.00237154, 0.01501976, 0.        , 0.01185771, 0.00790514,\n",
    "       0.00869565, 0.00237154, 0.00869565, 0.01264822, 0.00237154,\n",
    "       0.01264822, 0.00079051, 0.        , 0.00790514, 0.00395257,\n",
    "       0.01343874, 0.00948617, 0.00474308, 0.03003953, 0.01818182,\n",
    "       0.00474308, 0.00237154, 0.00395257, 0.01501976, 0.        ,\n",
    "       0.02371542, 0.02371542, 0.00237154, 0.01343874, 0.00948617,\n",
    "       0.        , 0.01106719, 0.00948617, 0.01027668, 0.00395257,\n",
    "       0.00316206, 0.01897233, 0.03320158, 0.00790514, 0.02529644,\n",
    "       0.00948617, 0.00948617, 0.        ])\n",
    "\n",
    "print(f\"Llama2 weighted average similarity: {np.sum(llama2_baseline_similarities * weights)}\")\n",
    "print(f\"ChatGPT weighted average similarity: {np.sum(chatgpt_baseline_similarities * weights)}\")"
   ]
  },
  {
   "cell_type": "code",
   "execution_count": 12,
   "metadata": {},
   "outputs": [],
   "source": [
    "chatgpt_with_addtional = [key for key in keys if \"Additional_Information\" in chatgpt[key] and \"Skills\" in chatgpt[key][\"Additional_Information\"]]"
   ]
  },
  {
   "cell_type": "code",
   "execution_count": 13,
   "metadata": {},
   "outputs": [
    {
     "data": {
      "text/plain": [
       "'IT Technician \\nIT Technician IT Technician Velocity Network Erie, PA Work well with team members, but also able to work independently. Hands on experience in administering networks, including configuring and installing cisco networks, and databases. Experience in customer relationship service and resolving issues with critical thinking skills. Work Experience IT Technician Velocity Network March 2018 to Present Helpdesk Analyst Zippo Manufacturing Company March 2017 to March 2018 Responsibilities include answering help desk tickets as they come in, imaging and deploying new PCs, troubleshooting issues with production PCs. Security Officer Springhill Senior Living September 2015 to March 2018 EMT: Responsibilities include patient care, patrolling of grounds, basic maintenance, ability to deescalate situations, and documentation of incidents. Emergency Medical Technician EmergyCare March 2014 to October 2016 Responsibilities include patient care, apparatus upkeep and restocking, documentation of medical records. Education Erie Institute of Technology Erie, PA April 2017 High School Diploma Honors Central Tech High School Erie, PA June 2014 Skills Active Directory (3 years), backups. (3 years), cisco (2 years), Cisco (1 year), Tech Support, Help Desk, Desktop Support, Service Desk, MSP (2 years), VPN, Helpdesk Support, Computer Repair, It Specialist, Information Technology, Network Support Additional Information IT Skills * Configurations as pertaining to Active Directory Domain Services * Understand the layout of networks, along with the security practices * Windows Servers 2012 & 2016 * Configuration for services, roles, permissions, groups, and user accounts. * Operating System installation * Microsoft Exchange Server * Extensive knowledge of Windows Operating Systems * DNS and DHCP services and configuration. * Configure and Troubleshooting computers and their perspective hardware components. * Oracle Database, along with SQL Programming * Drives and how to configure Storage Quotas, RAID configurations, and backups. * Linux Distributions such as Ubuntu, and Fedora. * Basic knowledge of Subnets and Network Address Classes. * Microsoft Office 2003, 2010, 2013, 2016, 365 * Programing Cisco routers and switches'"
      ]
     },
     "execution_count": 13,
     "metadata": {},
     "output_type": "execute_result"
    }
   ],
   "source": [
    "getCleanResume('12036.txt')"
   ]
  },
  {
   "cell_type": "code",
   "execution_count": 14,
   "metadata": {},
   "outputs": [
    {
     "data": {
      "text/plain": [
       "{'Basic_Info': {'Current_Title': 'IT Technician',\n",
       "  'Current_Company': 'Velocity Network',\n",
       "  'Location': 'Erie, PA',\n",
       "  'Bio': 'Work well with team members, but also able to work independently. Hands on experience in administering networks, including configuring and installing cisco networks, and databases.- Experience in customer relationship service and resolving issues with critical thinking skills.'},\n",
       " 'Experience': [{'Job_Title': 'IT Technician',\n",
       "   'Company': 'Velocity Network',\n",
       "   'Location': 'Erie, PA',\n",
       "   'Start_Date': 'March 2018',\n",
       "   'End_Date': 'Present',\n",
       "   'Responsibilities': 'Helpdesk Analyst Zippo Manufacturing Company March 2017 to March 2018 Responsibilities include answering help desk tickets as they come in, imaging and deploying new PCs, troubleshooting issues with production PCs.'},\n",
       "  {'Job_Title': 'Security Officer',\n",
       "   'Company': 'Springhill Senior Living',\n",
       "   'Location': 'Erie, PA',\n",
       "   'Start_Date': 'September 2015',\n",
       "   'End_Date': 'March 2018',\n",
       "   'Responsibilities': 'Responsibilities include patient care, patrolling of grounds, basic maintenance, ability to deescalate situations, and documentation of incidents.'},\n",
       "  {'Job_Title': 'Emergency Medical Technician',\n",
       "   'Company': 'EmergyCare',\n",
       "   'Location': '',\n",
       "   'Start_Date': 'March 2014',\n",
       "   'End_Date': 'October 2016',\n",
       "   'Responsibilities': 'Responsibilities include patient care, apparatus upkeep and restocking, documentation of medical records.'}],\n",
       " 'Education': [{'Degree': 'High School Diploma',\n",
       "   'Field': '',\n",
       "   'Institution': 'Erie Institute of Technology',\n",
       "   'Location': 'Erie, PA',\n",
       "   'Graduation_Date': 'April 2017'},\n",
       "  {'Degree': '',\n",
       "   'Field': '',\n",
       "   'Institution': 'Central Tech High School',\n",
       "   'Location': 'Erie, PA',\n",
       "   'Graduation_Date': 'June 2014'}],\n",
       " 'Projects': [],\n",
       " 'Skills': [],\n",
       " 'Technical_Skills': ['Active Directory',\n",
       "  'backups',\n",
       "  'cisco',\n",
       "  'Cisco',\n",
       "  'Tech Support',\n",
       "  'Help Desk',\n",
       "  'Desktop Support',\n",
       "  'Service Desk',\n",
       "  'MSP',\n",
       "  'VPN',\n",
       "  'Helpdesk Support',\n",
       "  'Computer Repair',\n",
       "  'It Specialist',\n",
       "  'Information Technology',\n",
       "  'Network Support'],\n",
       " 'Links': [],\n",
       " 'Certifications': [],\n",
       " 'Awards': [],\n",
       " 'Publications': [],\n",
       " 'Additional_Information': 'IT Skills- - * Configurations as pertaining to Active Directory Domain Services- * Understand the layout of networks, along with the security practices- * Windows Servers 2012 & 2016- * Configuration for services, roles, permissions, groups, and user accounts.- * Operating System installation- * Microsoft Exchange Server- * Extensive knowledge of Windows Operating Systems- * DNS and DHCP services and configuration.- * Configure and Troubleshooting computers and their perspective hardware components.- * Oracle Database, along with SQL Programming- * Drives and how to configure Storage Quotas, RAID configurations, and backups.- * Linux Distributions such as Ubuntu, and Fedora.- * Basic knowledge of Subnets and Network Address Classes.- * Microsoft Office 2003, 2010, 2013, 2016, 365- * Programing Cisco routers and switches'}"
      ]
     },
     "execution_count": 14,
     "metadata": {},
     "output_type": "execute_result"
    }
   ],
   "source": [
    "chatgpt[\"12036\"]"
   ]
  },
  {
   "cell_type": "code",
   "execution_count": 15,
   "metadata": {},
   "outputs": [
    {
     "data": {
      "text/plain": [
       "['Active Directory (3 years)',\n",
       " 'backups. (3 years)',\n",
       " 'cisco (2 years)',\n",
       " 'Cisco (1 year)',\n",
       " 'Tech Support',\n",
       " 'Help Desk',\n",
       " 'Desktop Support',\n",
       " 'Service Desk',\n",
       " 'MSP (2 years)',\n",
       " 'VPN',\n",
       " 'Helpdesk Support',\n",
       " 'Computer Repair',\n",
       " 'It Specialist',\n",
       " 'Information Technology',\n",
       " 'Network Support']"
      ]
     },
     "execution_count": 15,
     "metadata": {},
     "output_type": "execute_result"
    }
   ],
   "source": [
    "llama2[\"12036\"][SKILLS]"
   ]
  },
  {
   "cell_type": "markdown",
   "metadata": {},
   "source": [
    "## Education"
   ]
  },
  {
   "cell_type": "code",
   "execution_count": 16,
   "metadata": {},
   "outputs": [
    {
     "name": "stdout",
     "output_type": "stream",
     "text": [
      "0.8123675359994781\n",
      "0.8110791025680146\n",
      "0.7870080249698532\n",
      "0.6580217658597927\n",
      "0.9351118015190473\n",
      "0.8026872767618556\n"
     ]
    }
   ],
   "source": [
    "ed1 = \"B.S. in computer science\"\n",
    "ed2 = \"Bachelor of Science in Computer Science\"\n",
    "ed3 = \"B.S. in CS\"\n",
    "ed4 = \"Bachelor of Science in CS\"\n",
    "doc1 = nlp(ed1)\n",
    "doc2 = nlp(ed2)\n",
    "doc3 = nlp(ed3)\n",
    "doc4 = nlp(ed4)\n",
    "print(doc1.similarity(doc2))\n",
    "print(doc1.similarity(doc3))\n",
    "print(doc1.similarity(doc4))\n",
    "print(doc2.similarity(doc3))\n",
    "print(doc2.similarity(doc4))\n",
    "print(doc3.similarity(doc4))\n",
    "# cannot use similarity to compare degree\n",
    "# may need to fine-tune pre-trained word vectors"
   ]
  },
  {
   "cell_type": "code",
   "execution_count": 42,
   "metadata": {},
   "outputs": [],
   "source": [
    "llama2_degrees = [llama2[key][EDUCATION][ii]['Degree'] for key in keys for ii in range(len(llama2[key][EDUCATION]))]\n",
    "chatgpt_degrees = [chatgpt[key][EDUCATION][ii]['Degree'] for key in keys for ii in range(len(chatgpt[key][EDUCATION]))]\n",
    "baseline_degrees = [baseline[key][EDUCATION][ii]['Degree'] for key in keys for ii in range(len(baseline[key][EDUCATION]))]\n",
    "\n",
    "llama2_field = [llama2[key][EDUCATION][ii]['Field'] for key in keys for ii in range(len(llama2[key][EDUCATION]))]\n",
    "chatgpt_field = [chatgpt[key][EDUCATION][ii]['Field'] for key in keys for ii in range(len(chatgpt[key][EDUCATION]))]\n",
    "baseline_field = [baseline[key][EDUCATION][ii]['Field'] for key in keys for ii in range(len(baseline[key][EDUCATION]))]\n"
   ]
  },
  {
   "cell_type": "code",
   "execution_count": 18,
   "metadata": {},
   "outputs": [
    {
     "name": "stdout",
     "output_type": "stream",
     "text": [
      "['B.S in Computer Science', 'Bachelor of Science in Information Technology', 'CS', '', 'Bachelor of Science in Management Information Systems']\n",
      "['B.S', 'Bachelor of Science', '', '', 'Bachelor of Science']\n",
      "['B.S', 'Bachelor of Science', 'CS', '', 'Bachelor of Science in Management Information Systems']\n"
     ]
    }
   ],
   "source": [
    "print(llama2_degrees[:5])\n",
    "print(chatgpt_degrees[:5])\n",
    "print(baseline_degrees[:5])"
   ]
  },
  {
   "cell_type": "code",
   "execution_count": 19,
   "metadata": {},
   "outputs": [
    {
     "name": "stdout",
     "output_type": "stream",
     "text": [
      "['', '', '', '', '']\n",
      "['Computer Science', 'Information Technology', '', '', 'Management Information Systems']\n",
      "['Computer Science', 'Information Technology', '', '', '']\n"
     ]
    }
   ],
   "source": [
    "print(llama2_field[:5])\n",
    "print(chatgpt_field[:5])\n",
    "print(baseline_field[:5])\n"
   ]
  },
  {
   "cell_type": "code",
   "execution_count": 43,
   "metadata": {},
   "outputs": [
    {
     "data": {
      "text/plain": [
       "['B.S in Computer Science from University of Maryland ',\n",
       " 'Bachelor of Science in Information Technology from Brigham Young University ',\n",
       " 'CS  from Dixie State College ',\n",
       " '  from Snow Canyon High School ',\n",
       " 'Bachelor of Science in Management Information Systems  from Rowan University ']"
      ]
     },
     "execution_count": 43,
     "metadata": {},
     "output_type": "execute_result"
    }
   ],
   "source": [
    "def convert_education(education):\n",
    "    degree = education[DEGREE] if DEGREE in education else \"\"\n",
    "    field = education[FIELD] if FIELD in education else \"\"\n",
    "    school = education[INSTITUTION] if INSTITUTION in education else \"\"\n",
    "    Graduation_Date = education[GRADUATION_DATE] if GRADUATION_DATE in education else \"\"\n",
    "    \n",
    "    if len(field) > 0:\n",
    "        field = \"in \" + field\n",
    "    return f\"{degree} {field} from {school} \"\n",
    "\n",
    "# llama2_education = [convert_education(llama2[key][EDUCATION][ii]) for key in keys for ii in range(len(llama2[key][EDUCATION]))]\n",
    "# chatgpt_education = [convert_education(chatgpt[key][EDUCATION][ii]) for key in keys for ii in range(len(chatgpt[key][EDUCATION]))]\n",
    "# baseline_education = [convert_education(baseline[key][EDUCATION][ii]) for key in keys for ii in range(len(baseline[key][EDUCATION]))]\n",
    "\n",
    "llama2_education = []\n",
    "chatgpt_education = []\n",
    "baseline_education = []\n",
    "\n",
    "for i, key in enumerate(keys):\n",
    "    baseline_educations = baseline[key][EDUCATION]\n",
    "    chatgpt_educations = chatgpt[key][EDUCATION]\n",
    "    llama2_educations = llama2[key][EDUCATION]\n",
    "    \n",
    "    for ii in range(len(baseline_educations)):\n",
    "        baseline_education.append(convert_education(baseline_educations[ii]))\n",
    "        try:\n",
    "            chatgpt_education.append(convert_education(chatgpt_educations[ii]))\n",
    "        except:\n",
    "            chatgpt_education.append(convert_education(dict()))\n",
    "        try:\n",
    "            llama2_education.append(convert_education(llama2_educations[ii]))\n",
    "        except:\n",
    "            llama2_education.append(convert_education(dict()))\n",
    "            \n",
    "    if len(llama2_educations) > len(baseline_educations):\n",
    "        for ii in range(len(baseline_educations), len(llama2_educations)):\n",
    "            baseline_education.append(convert_education(dict()))\n",
    "            llama2_education.append(convert_education(llama2_educations[ii]))\n",
    "            try:\n",
    "                chatgpt_education.append(convert_education(chatgpt_educations[ii]))\n",
    "            except:\n",
    "                chatgpt_education.append(convert_education(dict()))\n",
    "                \n",
    "    if len(chatgpt_educations) > len(baseline_educations):\n",
    "        for ii in range(len(baseline_educations), len(chatgpt_educations)):\n",
    "            baseline_education.append(convert_education(dict()))\n",
    "            chatgpt_education.append(convert_education(chatgpt_educations[ii]))\n",
    "            try:\n",
    "                llama2_education.append(convert_education(llama2_educations[ii]))\n",
    "            except:\n",
    "                llama2_education.append(convert_education(dict()))\n",
    "\n",
    "(baseline_education[:5])"
   ]
  },
  {
   "cell_type": "code",
   "execution_count": 44,
   "metadata": {},
   "outputs": [],
   "source": [
    "baseline_educations = {key: [convert_education(baseline[key][EDUCATION][ii]) for ii in range(len(baseline[key][EDUCATION]))] for key in keys}\n",
    "chatgpt_educations = {key: [convert_education(chatgpt[key][EDUCATION][ii]) for ii in range(len(chatgpt[key][EDUCATION]))] for key in keys}\n",
    "llama2_educations = {key: [convert_education(llama2[key][EDUCATION][ii]) for ii in range(len(llama2[key][EDUCATION]))] for key in keys}\n",
    "\n",
    "temp = [baseline_educations, chatgpt_educations, llama2_educations]\n",
    "for key in keys:\n",
    "    max_len = max(len(baseline_educations[key]), len(chatgpt_educations[key]), len(llama2_educations[key]))\n",
    "    for model in temp:\n",
    "        if len(model[key]) < max_len:\n",
    "            model[key].append(convert_education(dict()))"
   ]
  },
  {
   "cell_type": "code",
   "execution_count": 49,
   "metadata": {},
   "outputs": [
    {
     "name": "stdout",
     "output_type": "stream",
     "text": [
      "Bachelor of Science in Management Information Systems  from Rowan University \n",
      "Master's in Computer Science in Computer Science from Acharya Nagarjuna University \n"
     ]
    },
    {
     "data": {
      "text/plain": [
       "0.8820129424238462"
      ]
     },
     "execution_count": 49,
     "metadata": {},
     "output_type": "execute_result"
    }
   ],
   "source": [
    "doc1 = nlp(baseline_educations[keys[3]][0])\n",
    "doc2 = nlp(baseline_educations[keys[8]][0])\n",
    "print(doc1)\n",
    "print(doc2)\n",
    "doc1.similarity(doc2)"
   ]
  },
  {
   "cell_type": "code",
   "execution_count": 50,
   "metadata": {},
   "outputs": [
    {
     "name": "stdout",
     "output_type": "stream",
     "text": [
      "26375\n",
      "LLAMA2: 1\n",
      "ChatGPT: 2\n",
      "Baseline: 2\n",
      "\n",
      "21753\n",
      "LLAMA2: 1\n",
      "ChatGPT: 0\n",
      "Baseline: 1\n",
      "\n",
      "21263\n",
      "LLAMA2: 2\n",
      "ChatGPT: 2\n",
      "Baseline: 1\n",
      "\n",
      "26346\n",
      "LLAMA2: 1\n",
      "ChatGPT: 0\n",
      "Baseline: 1\n",
      "\n",
      "24869.txt\n",
      "LLAMA2: 1\n",
      "ChatGPT: 1\n",
      "Baseline: 2\n",
      "\n",
      "00690.txt\n",
      "LLAMA2: 1\n",
      "ChatGPT: 3\n",
      "Baseline: 3\n",
      "\n",
      "22801.txt\n",
      "LLAMA2: 4\n",
      "ChatGPT: 4\n",
      "Baseline: 3\n",
      "\n",
      "01538.txt\n",
      "LLAMA2: 2\n",
      "ChatGPT: 3\n",
      "Baseline: 3\n",
      "\n",
      "16515.txt\n",
      "LLAMA2: 1\n",
      "ChatGPT: 1\n",
      "Baseline: 0\n",
      "\n",
      "03771.txt\n",
      "LLAMA2: 1\n",
      "ChatGPT: 0\n",
      "Baseline: 0\n",
      "\n",
      "17266.txt\n",
      "LLAMA2: 2\n",
      "ChatGPT: 1\n",
      "Baseline: 2\n",
      "\n"
     ]
    }
   ],
   "source": [
    "for key in keys:\n",
    "    llamaTemp = llama2[key][EDUCATION]\n",
    "    chatgptTemp = chatgpt[key][EDUCATION]\n",
    "    baselineTemp = baseline[key][EDUCATION]\n",
    "    if len(llamaTemp) != len(chatgptTemp) or len(llamaTemp) != len(baselineTemp):\n",
    "        print(key)\n",
    "        print(f\"LLAMA2: {len(llamaTemp)}\")\n",
    "        print(f\"ChatGPT: {len(chatgptTemp)}\")\n",
    "        print(f\"Baseline: {len(baselineTemp)}\")\n",
    "        print()\n",
    "        "
   ]
  },
  {
   "cell_type": "code",
   "execution_count": 45,
   "metadata": {},
   "outputs": [
    {
     "name": "stdout",
     "output_type": "stream",
     "text": [
      "0.9571248858878141\n",
      "0.9407537262152673\n"
     ]
    }
   ],
   "source": [
    "llama2_eudcation_processed = list(nlp.pipe(llama2_education))\n",
    "chatgpt_eudcation_processed = list(nlp.pipe(chatgpt_education))\n",
    "baseline_eudcation_processed = list(nlp.pipe(baseline_education))\n",
    "\n",
    "chatgpt_baseline_eudcation_similarities = np.array([doc1.similarity(doc2) for doc1, doc2 in zip(chatgpt_eudcation_processed, baseline_eudcation_processed)])\n",
    "llama2_baseline_eudcation_similarities = np.array([doc1.similarity(doc2) for doc1, doc2 in zip(llama2_eudcation_processed, baseline_eudcation_processed)])\n",
    "print(chatgpt_baseline_eudcation_similarities.mean())\n",
    "print(llama2_baseline_eudcation_similarities.mean())"
   ]
  },
  {
   "cell_type": "code",
   "execution_count": 46,
   "metadata": {},
   "outputs": [
    {
     "data": {
      "text/plain": [
       "0.9767941"
      ]
     },
     "execution_count": 46,
     "metadata": {},
     "output_type": "execute_result"
    }
   ],
   "source": [
    "all_education = llama2_education + chatgpt_education + baseline_education\n",
    "tokenized_education = [[token.text for token in nlp(education.lower())] for education in all_education]\n",
    "tagged_data = [TaggedDocument(words=doc, tags=[str(i)]) for i, doc in enumerate(tokenized_education)]\n",
    "\n",
    "model = Doc2Vec(tagged_data, vector_size=20, window=2, min_count=1, workers=4, epochs = 100)\n",
    "\n",
    "e1 = \"Bachelor in Informatics Engineering  from University of Matanzas (Graduation Date: 2012)\"\n",
    "e2 = \"Bachelor of Science in Management Information Systems  from Rowan University (Graduation Date: May 2017)\"\n",
    "vec1 = model.infer_vector(e1.split())\n",
    "vec2 = model.infer_vector(e2.split())\n",
    "similarity = np.dot(vec1, vec2) / (np.linalg.norm(vec1) * np.linalg.norm(vec2))\n",
    "similarity"
   ]
  },
  {
   "cell_type": "markdown",
   "metadata": {},
   "source": [
    "### Use Jaccard\n"
   ]
  },
  {
   "cell_type": "code",
   "execution_count": 51,
   "metadata": {},
   "outputs": [
    {
     "name": "stdout",
     "output_type": "stream",
     "text": [
      "llama2 mean jaccard: 0.9011068229016947\n",
      "chatgpt mean jaccard: 0.9399520560719655\n"
     ]
    },
    {
     "data": {
      "image/png": "[encoded data removed]",
      "text/plain": [
       "<Figure size 1000x600 with 1 Axes>"
      ]
     },
     "metadata": {},
     "output_type": "display_data"
    }
   ],
   "source": [
    "def compute_jaccard(text1, text2):\n",
    "    # Tokenize the texts and convert to sets\n",
    "    set1 = set(text1.split())\n",
    "    set2 = set(text2.split())\n",
    "    \n",
    "    if not set1 and not set2:  # if both sets are empty\n",
    "        return 1.0\n",
    "    \n",
    "    return len(set1.intersection(set2)) / len(set1.union(set2))\n",
    "\n",
    "chatgpt_education_jaccard = {key: np.mean([compute_jaccard(education, baseline_educations[key][ii]) for ii, education in enumerate(chatgpt_educations[key])]) for key in keys}\n",
    "llama2_education_jaccard = {key: np.mean([compute_jaccard(education, baseline_educations[key][ii]) for ii, education in enumerate(llama2_educations[key])]) for key in keys}\n",
    "\n",
    "\n",
    "chatgpt_education_jaccard = pd.Series(chatgpt_education_jaccard)\n",
    "llama2_education_jaccard = pd.Series(llama2_education_jaccard)\n",
    "\n",
    "education_jaccad_comparison = pd.DataFrame({\"ChatGPT\": chatgpt_education_jaccard, \"Llama2\": llama2_education_jaccard})\n",
    "\n",
    "print(f\"llama2 mean jaccard: {llama2_education_jaccard.mean()}\")\n",
    "print(f\"chatgpt mean jaccard: {chatgpt_education_jaccard.mean()}\")\n",
    "plt.figure(figsize=(10, 6))\n",
    "plt.hist(chatgpt_education_jaccard, bins=30, alpha = 0.5, label = \"ChatGPT\")\n",
    "plt.hist(llama2_education_jaccard, bins=30, alpha = 0.5, label = \"Llama2\");\n",
    "plt.legend()\n",
    "plt.title(\"Similarity of Education to Baseline\");"
   ]
  },
  {
   "cell_type": "code",
   "execution_count": 52,
   "metadata": {},
   "outputs": [],
   "source": [
    "education_jaccad_comparison.to_csv(\"education_jaccard.csv\")"
   ]
  },
  {
   "cell_type": "code",
   "execution_count": 53,
   "metadata": {},
   "outputs": [
    {
     "data": {
      "text/html": [
       "<div>\n",
       "<style scoped>\n",
       "    .dataframe tbody tr th:only-of-type {\n",
       "        vertical-align: middle;\n",
       "    }\n",
       "\n",
       "    .dataframe tbody tr th {\n",
       "        vertical-align: top;\n",
       "    }\n",
       "\n",
       "    .dataframe thead th {\n",
       "        text-align: right;\n",
       "    }\n",
       "</style>\n",
       "<table border=\"1\" class=\"dataframe\">\n",
       "  <thead>\n",
       "    <tr style=\"text-align: right;\">\n",
       "      <th></th>\n",
       "      <th>ChatGPT</th>\n",
       "      <th>Llama2</th>\n",
       "    </tr>\n",
       "  </thead>\n",
       "  <tbody>\n",
       "    <tr>\n",
       "      <th>count</th>\n",
       "      <td>117.000000</td>\n",
       "      <td>117.000000</td>\n",
       "    </tr>\n",
       "    <tr>\n",
       "      <th>mean</th>\n",
       "      <td>0.939952</td>\n",
       "      <td>0.901107</td>\n",
       "    </tr>\n",
       "    <tr>\n",
       "      <th>std</th>\n",
       "      <td>0.167583</td>\n",
       "      <td>0.210272</td>\n",
       "    </tr>\n",
       "    <tr>\n",
       "      <th>min</th>\n",
       "      <td>0.090909</td>\n",
       "      <td>0.090909</td>\n",
       "    </tr>\n",
       "    <tr>\n",
       "      <th>25%</th>\n",
       "      <td>1.000000</td>\n",
       "      <td>0.909091</td>\n",
       "    </tr>\n",
       "    <tr>\n",
       "      <th>50%</th>\n",
       "      <td>1.000000</td>\n",
       "      <td>1.000000</td>\n",
       "    </tr>\n",
       "    <tr>\n",
       "      <th>75%</th>\n",
       "      <td>1.000000</td>\n",
       "      <td>1.000000</td>\n",
       "    </tr>\n",
       "    <tr>\n",
       "      <th>max</th>\n",
       "      <td>1.000000</td>\n",
       "      <td>1.000000</td>\n",
       "    </tr>\n",
       "  </tbody>\n",
       "</table>\n",
       "</div>"
      ],
      "text/plain": [
       "          ChatGPT      Llama2\n",
       "count  117.000000  117.000000\n",
       "mean     0.939952    0.901107\n",
       "std      0.167583    0.210272\n",
       "min      0.090909    0.090909\n",
       "25%      1.000000    0.909091\n",
       "50%      1.000000    1.000000\n",
       "75%      1.000000    1.000000\n",
       "max      1.000000    1.000000"
      ]
     },
     "execution_count": 53,
     "metadata": {},
     "output_type": "execute_result"
    }
   ],
   "source": [
    "education_jaccad_comparison.describe()"
   ]
  },
  {
   "cell_type": "code",
   "execution_count": 45,
   "metadata": {},
   "outputs": [
    {
     "name": "stdout",
     "output_type": "stream",
     "text": [
      "llama2 output: ['Bachelors of Science in Information Technology  from Franklin University (Graduation Date: August 2017)', 'Master of Science in Cyber Security Management  from Kaplan University (Graduation Date: )', 'Associate of Applied Science in Network Engineering  from Sinclair Community College (Graduation Date: June 2015)']\n",
      "chatgpt output: ['Bachelors of Science in Information Technology from Franklin University (Graduation Date: August 2017)', 'Master of Science in Cyber Security Management from Kaplan University (Graduation Date: March 2017)', 'Associate of Applied Science in Network Engineering from Sinclair Community College (Graduation Date: June 2015)']\n",
      "baseline output: ['Bachelors of Science in Information Technology from Franklin University (Graduation Date: August 2017)', 'Master of Science in Cyber Security Management from Kaplan University (Graduation Date: March 2017)', 'Associate of Applied Science in Network Engineering from Sinclair Community College (Graduation Date: June 2015)']\n"
     ]
    }
   ],
   "source": [
    "res = \"17230.txt\"\n",
    "print(f\"llama2 output: {llama2_educations[res]}\")\n",
    "print(f\"chatgpt output: {chatgpt_educations[res]}\")\n",
    "print(f\"baseline output: {baseline_educations[res]}\")"
   ]
  },
  {
   "cell_type": "code",
   "execution_count": 29,
   "metadata": {},
   "outputs": [
    {
     "data": {
      "text/plain": [
       "[{'Degree': 'Bachelor of Arts',\n",
       "  'Field': 'Telecommunications',\n",
       "  'Institution': 'The Pennsylvania State University',\n",
       "  'Location': '',\n",
       "  'Graduation_Date': '2015'}]"
      ]
     },
     "execution_count": 29,
     "metadata": {},
     "output_type": "execute_result"
    }
   ],
   "source": [
    "(baseline[keys[19]][EDUCATION])"
   ]
  },
  {
   "cell_type": "code",
   "execution_count": 30,
   "metadata": {},
   "outputs": [
    {
     "data": {
      "text/plain": [
       "array([1.        , 1.        , 0.95098489, 0.94997982, 0.99999996,\n",
       "       0.99048519, 1.        , 1.        , 1.        , 1.        ,\n",
       "       1.        , 1.        , 1.        , 1.        , 0.98386803,\n",
       "       1.        , 1.        , 1.        , 1.        , 0.89589841,\n",
       "       1.        , 0.95543041, 1.        , 1.        , 1.        ,\n",
       "       0.67618408, 1.        , 0.92638448, 0.90343085, 1.00000009,\n",
       "       0.99999981, 0.77201851, 0.7636605 , 1.        , 1.        ,\n",
       "       1.        , 0.91600559, 1.        , 1.        , 0.98105331,\n",
       "       0.99999989, 0.62166191, 0.62166191, 0.9731366 , 0.968597  ,\n",
       "       1.        , 1.        , 1.        , 1.        , 1.        ,\n",
       "       1.        , 1.        , 0.97700908, 0.97643086, 0.96637391,\n",
       "       0.96863644, 0.67618408, 0.96025059, 0.97168777, 0.99999978,\n",
       "       0.98412343, 0.98477923, 1.        , 0.98895099, 0.98635702,\n",
       "       0.98012654, 0.991396  , 1.        , 0.95636832, 1.        ,\n",
       "       0.98779758, 1.        , 0.89639482, 0.52314563, 0.98532381,\n",
       "       0.98139982, 1.        , 0.9874243 , 0.98727207, 1.        ,\n",
       "       0.99510348, 0.99555786, 1.        , 0.98529482, 0.98166694,\n",
       "       0.94968336, 0.92413359, 0.94652639, 1.        , 0.97655829,\n",
       "       0.98361561, 0.98281604, 0.90373637, 0.98765345, 0.98451529,\n",
       "       1.        , 1.        , 0.98951191, 0.99117295, 0.98669483,\n",
       "       1.        , 1.        , 0.9324702 , 0.97548068, 1.        ,\n",
       "       0.98944275, 0.98851413, 1.        , 1.        , 1.        ,\n",
       "       0.98944662, 0.84469669, 0.88621006, 0.91393711, 0.91393711,\n",
       "       1.        , 1.        , 0.98497252, 1.        , 0.87041059,\n",
       "       0.95662896, 0.84711451, 0.98586307, 1.        , 1.        ,\n",
       "       0.95951979, 0.9652444 , 0.95993906, 1.        , 0.97604835,\n",
       "       0.98338475, 0.98546395, 0.98630762, 0.98828998, 0.90624787,\n",
       "       0.92255932, 0.95103727, 1.        , 0.98860349, 0.942031  ,\n",
       "       0.92699365, 0.99932975, 1.00000008, 1.00000011, 0.95597648,\n",
       "       1.        , 1.        , 1.        , 0.98685992, 0.98616608,\n",
       "       0.96616819, 0.98347573, 1.        , 1.        , 0.67618408,\n",
       "       0.67618408, 1.        , 1.00000001, 1.        , 1.        ,\n",
       "       0.98534318, 0.98747436, 0.98607287, 1.        , 0.97668684,\n",
       "       1.        , 1.        , 1.        , 1.        , 1.        ,\n",
       "       1.        , 1.        , 0.98109974, 1.        , 1.        ,\n",
       "       0.98150968, 1.        , 0.61753203, 0.98856362, 1.        ,\n",
       "       1.        , 1.        , 1.        , 1.        ])"
      ]
     },
     "execution_count": 30,
     "metadata": {},
     "output_type": "execute_result"
    }
   ],
   "source": [
    "chatgpt_baseline_eudcation_similarities"
   ]
  },
  {
   "cell_type": "markdown",
   "metadata": {},
   "source": [
    "## Whole Document"
   ]
  },
  {
   "cell_type": "code",
   "execution_count": 54,
   "metadata": {},
   "outputs": [],
   "source": [
    "def create_resume(resume_json, read = True):\n",
    "    \"\"\"Re-construct the textual resume from the provided JSON data.\"\"\"\n",
    "    \n",
    "    def flatten_and_convert(data):\n",
    "        \"\"\"Flatten and convert data to string.\"\"\"\n",
    "        if isinstance(data, list):\n",
    "            return ' '.join(map(str, data))\n",
    "        return str(data)\n",
    "\n",
    "    resume_text = []\n",
    "\n",
    "    # Basic Info\n",
    "    basic_info = resume_json.get('Basic_Info', {})\n",
    "    title = flatten_and_convert(basic_info.get('Current_Title', ''))\n",
    "    company = flatten_and_convert(basic_info.get('Current_Company', ''))\n",
    "    resume_text.append(title + \" at \" + company)\n",
    "    resume_text.append(flatten_and_convert(basic_info.get('Location', '')))\n",
    "    bio = flatten_and_convert(basic_info.get('Bio', ''))\n",
    "    if bio:\n",
    "        resume_text.append(bio)\n",
    "    resume_text.append(\"\\nExperience:\")\n",
    "\n",
    "    # Experience\n",
    "    for exp in resume_json.get('Experience', []):\n",
    "        job_title = flatten_and_convert(exp.get('Job_Title', ''))\n",
    "        company = flatten_and_convert(exp.get('Company', ''))\n",
    "        start_date = flatten_and_convert(exp.get('Start_Date', ''))\n",
    "        end_date = flatten_and_convert(exp.get('End_Date', ''))\n",
    "        responsibilities = flatten_and_convert(exp.get('Responsibilities', ''))\n",
    "        resume_text.append(job_title + \" at \" + company + \" \" + start_date + \" to \" + end_date)\n",
    "        resume_text.append(responsibilities)\n",
    "\n",
    "    # Education\n",
    "    resume_text.append(\"\\nEducation:\")\n",
    "    for edu in resume_json.get('Education', []):\n",
    "        degree = flatten_and_convert(edu.get('Degree', ''))\n",
    "        field = flatten_and_convert(edu.get('Field', ''))\n",
    "        institution = flatten_and_convert(edu.get('Institution', ''))\n",
    "        resume_text.append(degree + \" in \" + field + \" from \" + institution)\n",
    "\n",
    "    # Skills\n",
    "    skills = flatten_and_convert(resume_json.get('Skills', []))\n",
    "    if skills:\n",
    "        resume_text.append(\"\\nSkills:\")\n",
    "        resume_text.append(skills)\n",
    "\n",
    "    # Links\n",
    "    links = flatten_and_convert(resume_json.get('Links', []))\n",
    "    if links:\n",
    "        resume_text.append(\"\\nLinks:\")\n",
    "        resume_text.append(links)\n",
    "\n",
    "    # Additional Information\n",
    "    additional_info = flatten_and_convert(resume_json.get('Additional_Information', ''))\n",
    "    if additional_info:\n",
    "        resume_text.append(\"\\nAdditional Information:\")\n",
    "        resume_text.append(additional_info)\n",
    "\n",
    "    # Joining all the parts to form a single string\n",
    "    resume_formatted = \"\\n\".join(resume_text)\n",
    "    \n",
    "    if not read:\n",
    "        resume_formatted = resume_formatted.replace(\"\\n\", \" \")\n",
    "    \n",
    "    return resume_formatted\n"
   ]
  },
  {
   "cell_type": "code",
   "execution_count": 56,
   "metadata": {},
   "outputs": [],
   "source": [
    "chatgpt_resumes = [create_resume(chatgpt[key], read=False) for key in keys]\n",
    "llama2_resumes = [create_resume(llama2[key], read=False).replace(\"\\ufffd\", \" \") for key in keys]\n",
    "baseline_resumes = [create_resume(baseline[key], read=False) for key in keys]\n",
    "keys_ = [k + '.txt' if \".txt\" not in k else k for k in keys]\n",
    "actual_resumes = [getCleanResume(key).replace(\"\\n\", \" \").replace(\" ?\", \"\") for key in keys_]\n",
    "\n",
    "# Combine all resumes and tag them\n",
    "all_resumes = chatgpt_resumes + llama2_resumes + baseline_resumes + actual_resumes\n",
    "tokenized_resumes_spacy = [[token.text for token in nlp(resume.lower())] for resume in all_resumes]\n",
    "\n",
    "tagged_data = [TaggedDocument(words=tokenized_resumes_spacy[i], tags=[str(i)]) for i, _ in enumerate(tokenized_resumes_spacy)]\n",
    "# Train a Doc2Vec model\n",
    "model = Doc2Vec(vector_size=30, window=5, min_count=1, workers=10, epochs=100)\n",
    "model.build_vocab(tagged_data)\n",
    "model.train(tagged_data, total_examples=model.corpus_count, epochs=model.epochs)\n",
    "\n",
    "def compute_similarity(resumes1, resumes2, model):\n",
    "    similarities = []\n",
    "    \n",
    "    for ii in range(len(resumes1)):\n",
    "        resume1 = resumes1[ii]\n",
    "        resume2 = resumes2[ii]\n",
    "        vec1 = model.infer_vector(resume1.split())\n",
    "        vec2 = model.infer_vector(resume2.split())\n",
    "        similarity = np.dot(vec1, vec2) / (np.linalg.norm(vec1) * np.linalg.norm(vec2))\n",
    "        similarities.append(similarity)\n",
    "            \n",
    "    return similarities\n",
    "\n",
    "# Compute similarities\n",
    "chatgpt_baseline_similarities = compute_similarity(chatgpt_resumes, baseline_resumes, model)\n",
    "llama2_baseline_similarities = compute_similarity(llama2_resumes, baseline_resumes, model)\n",
    "chatgpt_llama2_similarities = compute_similarity(chatgpt_resumes, llama2_resumes, model)\n",
    "\n"
   ]
  },
  {
   "cell_type": "code",
   "execution_count": 57,
   "metadata": {},
   "outputs": [],
   "source": [
    "doc_similarity = pd.DataFrame({\"Chatgpt_baseline\": chatgpt_baseline_similarities, \"Llama2_baseline\": llama2_baseline_similarities, \"Chatgpt_llama2\": chatgpt_llama2_similarities})\n",
    "doc_similarity.to_csv(\"doc_semantic_similarity.csv\", index=False)"
   ]
  },
  {
   "cell_type": "code",
   "execution_count": 61,
   "metadata": {},
   "outputs": [
    {
     "data": {
      "text/html": [
       "<div>\n",
       "<style scoped>\n",
       "    .dataframe tbody tr th:only-of-type {\n",
       "        vertical-align: middle;\n",
       "    }\n",
       "\n",
       "    .dataframe tbody tr th {\n",
       "        vertical-align: top;\n",
       "    }\n",
       "\n",
       "    .dataframe thead th {\n",
       "        text-align: right;\n",
       "    }\n",
       "</style>\n",
       "<table border=\"1\" class=\"dataframe\">\n",
       "  <thead>\n",
       "    <tr style=\"text-align: right;\">\n",
       "      <th></th>\n",
       "      <th>Chatgpt_baseline</th>\n",
       "      <th>Llama2_baseline</th>\n",
       "      <th>Chatgpt_llama2</th>\n",
       "    </tr>\n",
       "  </thead>\n",
       "  <tbody>\n",
       "    <tr>\n",
       "      <th>count</th>\n",
       "      <td>118.000000</td>\n",
       "      <td>118.000000</td>\n",
       "      <td>118.000000</td>\n",
       "    </tr>\n",
       "    <tr>\n",
       "      <th>mean</th>\n",
       "      <td>0.971533</td>\n",
       "      <td>0.960963</td>\n",
       "      <td>0.953359</td>\n",
       "    </tr>\n",
       "    <tr>\n",
       "      <th>std</th>\n",
       "      <td>0.034710</td>\n",
       "      <td>0.059664</td>\n",
       "      <td>0.058202</td>\n",
       "    </tr>\n",
       "    <tr>\n",
       "      <th>min</th>\n",
       "      <td>0.817557</td>\n",
       "      <td>0.556802</td>\n",
       "      <td>0.588309</td>\n",
       "    </tr>\n",
       "    <tr>\n",
       "      <th>25%</th>\n",
       "      <td>0.961928</td>\n",
       "      <td>0.949949</td>\n",
       "      <td>0.936713</td>\n",
       "    </tr>\n",
       "    <tr>\n",
       "      <th>50%</th>\n",
       "      <td>0.984879</td>\n",
       "      <td>0.985405</td>\n",
       "      <td>0.979317</td>\n",
       "    </tr>\n",
       "    <tr>\n",
       "      <th>75%</th>\n",
       "      <td>0.993689</td>\n",
       "      <td>0.994252</td>\n",
       "      <td>0.988571</td>\n",
       "    </tr>\n",
       "    <tr>\n",
       "      <th>max</th>\n",
       "      <td>0.998802</td>\n",
       "      <td>0.998393</td>\n",
       "      <td>0.998551</td>\n",
       "    </tr>\n",
       "  </tbody>\n",
       "</table>\n",
       "</div>"
      ],
      "text/plain": [
       "       Chatgpt_baseline  Llama2_baseline  Chatgpt_llama2\n",
       "count        118.000000       118.000000      118.000000\n",
       "mean           0.971533         0.960963        0.953359\n",
       "std            0.034710         0.059664        0.058202\n",
       "min            0.817557         0.556802        0.588309\n",
       "25%            0.961928         0.949949        0.936713\n",
       "50%            0.984879         0.985405        0.979317\n",
       "75%            0.993689         0.994252        0.988571\n",
       "max            0.998802         0.998393        0.998551"
      ]
     },
     "execution_count": 61,
     "metadata": {},
     "output_type": "execute_result"
    }
   ],
   "source": [
    "doc_similarity.describe()"
   ]
  },
  {
   "cell_type": "code",
   "execution_count": 59,
   "metadata": {},
   "outputs": [
    {
     "data": {
      "image/png": "[encoded data removed]",
      "text/plain": [
       "<Figure size 1000x600 with 1 Axes>"
      ]
     },
     "metadata": {},
     "output_type": "display_data"
    }
   ],
   "source": [
    "plt.figure(figsize=(10, 6))\n",
    "sns.histplot(chatgpt_baseline_similarities, bins=30, alpha = 0.5, label = \"ChatGPT vs. Baseline\")\n",
    "sns.histplot(llama2_baseline_similarities, bins=30, alpha = 0.5, label = \"Llama2 vs. Baseline\")\n",
    "sns.histplot(chatgpt_llama2_similarities, bins=30, alpha = 0.5, label = \"ChatGPT vs. Llama2\")\n",
    "plt.legend()\n",
    "plt.title(\"Similarity of Resumes to Baseline\");\n"
   ]
  },
  {
   "cell_type": "code",
   "execution_count": null,
   "metadata": {},
   "outputs": [
    {
     "name": "stdout",
     "output_type": "stream",
     "text": [
      "Scheduling Coordinator Scheduling Coordinator Scheduling Coordinator Insight Global Morrisville, NC Work Experience Scheduling Coordinator Insight Global March 2019 to Present Contract position with Cintas through Insight Global. Responsible for coordinating over 100 appointments daily, often valued over $100,000. Performed scheduling duties by making outbound calls to confirm and verify client information. Maintained organization and call data for reports while utilizing Excel and internal databases. Revise and provide SOW upon request. Project Manager Conversis June 2018 to March 2019 Permanent position. Ended due to branch closing. Managed translation and localization projects cost effectively, efficiently and to the highest quality standards. Closely governed each project or task, ensuring that client deadlines are met. Participated actively in client emails and meetings with clients, peers, translators, developers and managers. Successfully handled multiple projects at the same time. Project Manager GDH Consulting October 2017 to April 2018 6-month contract with Cisco through GDH Consulting. Built and maintained relationships with internal and external managers by regularly communicating, clarifying inquiries and jointly resolving issues with Cisco's payroll department. Managed and reviewed timecard to ensure accuracy and report any discrepancies. Aided in budget request and end to end onboarding of new staff augmentation, candidate selection, and systems training. Created and revised SOW's. IT JR Project Manager Apex Systems June 2017 to October 2017 4-month contract with Verizon through Apex Systems. Coordinated with field techs and network engineers to execute activations. Created and maintained project schedules by tracking progress during project to ensure successful project completion. Assisted in identifying, diagnosing failed sites. Maintained quality standards of on-going investigations between pertinent channels and departments. Education B.S in Computer Science University of Maryland Skills Crm, Strategic planning, Scheduling, Data entry, Time management, Cost management, Quality assurance, Front Desk, Customer Service Links http://linkedin.com/jadeporte Additional Information Skills ? Data entry ? CRM Platforms ? Scheduling ? Cost Management ? Time Management ? Strategic Planning ? Customer Facing ? Quality Assurance\n"
     ]
    }
   ],
   "source": [
    "print(actual_resumes[0])"
   ]
  },
  {
   "cell_type": "code",
   "execution_count": 65,
   "metadata": {},
   "outputs": [
    {
     "data": {
      "text/plain": [
       "{'Basic_Info': {'Current_Title': 'Technical Representative',\n",
       "  'Current_Company': '',\n",
       "  'Location': 'Portland, OR',\n",
       "  'Bio': ''},\n",
       " 'Experience': [{'Job_Title': 'Technical Representative',\n",
       "   'Company': '',\n",
       "   'Location': '',\n",
       "   'Start_Date': 'September 2018',\n",
       "   'End_Date': 'Present',\n",
       "   'Responsibilities': 'Manage 110 accounts across 14 western states to provide technical consulting, product applications and client training� � Facilitate client meetings, relations and devise plans for increased profitability� � Create demand via product marketing & positioning, market infiltration strategies, tradeshows & presentations and B2B sales� � Adapt to market fluctuations by generating new business with national distributors and manufacturers� � Provide industry knowledge and collaborate with R&D to shape new and improved product profiles'},\n",
       "  {'Job_Title': 'R&D Manager, IPM Specialist, Database Administrator',\n",
       "   'Company': 'Terra Nova Nurseries',\n",
       "   'Location': '',\n",
       "   'Start_Date': 'January 2017',\n",
       "   'End_Date': 'September 2018',\n",
       "   'Responsibilities': '� Perpetuated new cultivar ideas & development to final patented products� � Tracked data, provided photography and wrote product descriptions� � Maintained plant health by developing fertilizer, lighting, pesticide and beneficial insect regiments� � Propagated plants via cuttings and pollination'},\n",
       "  {'Job_Title': 'Program Coordinator',\n",
       "   'Company': 'School Gardening for South Carolina Educators',\n",
       "   'Location': '',\n",
       "   'Start_Date': 'May 2015',\n",
       "   'End_Date': 'November 2016',\n",
       "   'Responsibilities': \"� Created and managed online horticulture workshops and courses� � Conducted meta-analyses for preliminary environmental reports� � Devised follow-up research to measure program's impact� � Coordinated volunteer and internship programs� � Objective� Driven, passionate horticulturalist seeking a career in research and consulting\"}],\n",
       " 'Education': [{'Degree': 'Bachelor of Science in Marie Biology',\n",
       "   'Field': 'Marie Biology',\n",
       "   'Institution': 'College of Charleston',\n",
       "   'Location': 'Charleston, SC',\n",
       "   'Graduation_Date': 'May 2015'}],\n",
       " 'Projects': [],\n",
       " 'Skills': ['Data analytics',\n",
       "  'SPSS',\n",
       "  'SAP',\n",
       "  'SRM',\n",
       "  'Written and verbal',\n",
       "  'Tissue culture',\n",
       "  'Excel',\n",
       "  'Microsoft Excel',\n",
       "  'Budgeting'],\n",
       " 'Technical_Skills': [],\n",
       " 'Links': [],\n",
       " 'Certifications': [],\n",
       " 'Awards': [],\n",
       " 'Publications': []}"
      ]
     },
     "execution_count": 65,
     "metadata": {},
     "output_type": "execute_result"
    }
   ],
   "source": [
    "llama2[\"00127\"]"
   ]
  },
  {
   "cell_type": "code",
   "execution_count": 67,
   "metadata": {},
   "outputs": [
    {
     "name": "stdout",
     "output_type": "stream",
     "text": [
      "Technical Representative at \n",
      "Portland, OR\n",
      "\n",
      "Experience:\n",
      "Technical Representative at. September 2018 to Present\n",
      "Manage 110 accounts across 14 western states to provide technical consulting, product applications and client training. Facilitate client meetings, relations and devise plans for increased profitability. Create demand via product marketing & positioning, market infiltration strategies, tradeshows & presentations and B2B sales. Adapt to market fluctuations by generating new business with national distributors and manufacturers. Provide industry knowledge and collaborate with R&D to shape new and improved product profiles\n",
      "R&D Manager, IPM Specialist, Database Administrator at Terra Nova Nurseries January 2017 to September 2018\n",
      " Perpetuated new cultivar ideas & development to final patented products. Tracked data, provided photography and wrote product descriptions. Maintained plant health by developing fertilizer, lighting, pesticide and beneficial insect regiments. Propagated plants via cuttings and pollination\n",
      "Program Coordinator at School Gardening for South Carolina Educators May 2015 to November 2016\n",
      " Created and managed online horticulture workshops and courses. Conducted meta-analyses for preliminary environmental reports. Devised follow-up research to measure program's impact. Coordinated volunteer and internship programs. Objective Driven, passionate horticulturalist seeking a career in research and consulting\n",
      "\n",
      "Education:\n",
      "Bachelor of Science in Marie Biology in Marie Biology from College of Charleston\n",
      "\n",
      "Skills:\n",
      "Data analytics SPSS SAP SRM Written and verbal Tissue culture Excel Microsoft Excel Budgeting\n"
     ]
    }
   ],
   "source": [
    "print(create_resume(llama2[\"00127\"]).replace(\"\\ufffd\", \"\").replace(\"  \", \". \"))"
   ]
  },
  {
   "cell_type": "code",
   "execution_count": null,
   "metadata": {},
   "outputs": [],
   "source": []
  }
 ],
 "metadata": {
  "kernelspec": {
   "display_name": "resume_research",
   "language": "python",
   "name": "python3"
  },
  "language_info": {
   "codemirror_mode": {
    "name": "ipython",
    "version": 3
   },
   "file_extension": ".py",
   "mimetype": "text/x-python",
   "name": "python",
   "nbconvert_exporter": "python",
   "pygments_lexer": "ipython3",
   "version": "3.12.0"
  },
  "orig_nbformat": 4
 },
 "nbformat": 4,
 "nbformat_minor": 2
}
